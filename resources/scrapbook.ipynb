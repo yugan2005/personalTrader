{
 "cells": [
  {
   "cell_type": "code",
   "execution_count": 109,
   "metadata": {
    "collapsed": false
   },
   "outputs": [],
   "source": [
    "import sys, os"
   ]
  },
  {
   "cell_type": "code",
   "execution_count": 110,
   "metadata": {
    "collapsed": false
   },
   "outputs": [],
   "source": [
    "try:\n",
    "    from dao import fromDB\n",
    "    from backtesting import test\n",
    "    from backtesting import recorder\n",
    "    from strategies import Buyer\n",
    "    from strategies import Seller\n",
    "except Exception:\n",
    "    sys.path.append(os.path.join(os.getcwd(), '..'))\n",
    "    from dao import fromDB\n",
    "    from backtesting import test\n",
    "    from backtesting import recorder\n",
    "    from strategies import Buyer\n",
    "    from strategies import Seller"
   ]
  },
  {
   "cell_type": "code",
   "execution_count": null,
   "metadata": {
    "collapsed": false
   },
   "outputs": [],
   "source": [
    "import pandas as pd\n",
    "pd.set_option('display.precision', 4)\n",
    "pd.__version__"
   ]
  },
  {
   "cell_type": "code",
   "execution_count": null,
   "metadata": {
    "collapsed": false
   },
   "outputs": [],
   "source": [
    "code='300393'\n",
    "test_df = fromDB.get_stock(code, 'qfq')\n",
    "test_record = test.single_stock_maxsize(test_df, Buyer.DadBuyer_1, Seller.DadSeller_1, base_period='w', MA5_p=0.99)"
   ]
  },
  {
   "cell_type": "code",
   "execution_count": null,
   "metadata": {
    "collapsed": true
   },
   "outputs": [],
   "source": [
    "%matplotlib inline\n",
    "from matplotlib import pyplot as plt\n",
    "from matplotlib.gridspec import GridSpec\n",
    "from matplotlib import dates as mdates\n",
    "import mpld3\n",
    "import numpy as np"
   ]
  },
  {
   "cell_type": "code",
   "execution_count": null,
   "metadata": {
    "collapsed": false,
    "scrolled": false
   },
   "outputs": [],
   "source": [
    "gs = GridSpec(3, 1, height_ratios=[1, 4, 1], left=0.05, right=0.95, bottom=0.15, top=0.975, hspace=0)\n",
    "base_period = test_record.base_period\n",
    "relevant_df = (test_record.df[[col_name for col_name in test_record.df.columns \n",
    "                              if col_name[-1]==base_period]]\n",
    "               .drop_duplicates()\n",
    "               .set_index('Date_'+base_period))\n",
    "fig = plt.figure(figsize=(12,10))\n",
    "ax_macd = fig.add_subplot(gs[2,0])\n",
    "ax_close = fig.add_subplot(gs[1,0], sharex=ax_macd)\n",
    "ax_profit = fig.add_subplot(gs[0, 0], sharex=ax_macd)\n",
    "plt.setp(ax_close.get_xticklabels(), visible=False);\n",
    "plt.setp(ax_profit.get_xticklabels(), visible=False);\n",
    "\n",
    "macd_df = (test_record.df[[col_name for col_name in test_record.df.columns\n",
    "                           if col_name[-1]=='m']]\n",
    "           .drop_duplicates()\n",
    "           .set_index('Date_m'))\n",
    "ax_macd.bar(macd_df[macd_df.MACD_m>0].index.values, \n",
    "            macd_df[macd_df.MACD_m>0].MACD_m.values,\n",
    "            width=15, color='salmon')\n",
    "ax_macd.bar(macd_df[macd_df.MACD_m<0].index.values, \n",
    "            macd_df[macd_df.MACD_m<0].MACD_m.values,\n",
    "            width=15, color='steelblue')\n",
    "\n",
    "ax_close.plot_date(relevant_df.index.values, relevant_df['Close_'+base_period].values, fmt='r-', label='Close')\n",
    "ax_close.plot_date(relevant_df.index.values, relevant_df['MA_2_'+base_period].values, fmt='b--', lw=2, label='MA_2')\n",
    "ax_close.plot_date(relevant_df.index.values, relevant_df['MA_5_'+base_period].values, fmt='m:', lw=2, label='MA_5')\n",
    "\n",
    "profits_dates = np.array(test_record.profits_date)\n",
    "profits = np.array(test_record.profits)\n",
    "ax_profit.plot_date(profits_dates[profits>=0], profits[profits>=0], color='r', ms=8)\n",
    "ax_profit.plot_date(profits_dates[profits<0], profits[profits<0], color='g', ms=8)\n",
    "ax_close.plot_date(test_record.buy_date, relevant_df['Close_'+base_period].ix[test_record.buy_date].values,\n",
    "                   '^', ms=12, label='BUY')\n",
    "ax_close.plot_date(test_record.sell_date, relevant_df['Close_'+base_period].ix[test_record.sell_date].values,\n",
    "                   'v', ms=12, mfc='salmon', label='SELL')\n",
    "ax_profit.plot_date([relevant_df.index.values[0], relevant_df.index.values[-1]], [0, 0], 'k--')\n",
    "for profit_date in profits_dates:\n",
    "    ax_close.plot_date([profit_date, profit_date], ax_close.get_ylim(), ls='--', color='k', lw=1)\n",
    "    ax_profit.plot_date([profit_date, profit_date], ax_profit.get_ylim(), ls='--', color='k', lw=1)\n",
    "ax_macd.grid(True)\n",
    "ax_close.legend(loc='best');\n",
    "mpld3.display()"
   ]
  },
  {
   "cell_type": "code",
   "execution_count": null,
   "metadata": {
    "collapsed": false
   },
   "outputs": [],
   "source": [
    "gs = GridSpec(2, 1, height_ratios=[1, 5], left=0.05, right=0.95, bottom=0.15, top=0.975, hspace=0)\n",
    "base_period = test_record.base_period\n",
    "relevant_df = (test_record.df[[col_name for col_name in test_record.df.columns \n",
    "                              if col_name[-1]==base_period]]\n",
    "               .drop_duplicates()\n",
    "               .set_index('Date_'+base_period))\n",
    "fig = plt.figure(figsize=(12,10))\n",
    "ax_close = fig.add_subplot(gs[1,0])\n",
    "ax_profit = fig.add_subplot(gs[0, 0], sharex=ax_close)\n",
    "plt.setp(ax_profit.get_xticklabels(), visible=False);\n",
    "\n",
    "\n",
    "ax_close.plot_date(relevant_df.index.values, relevant_df['Close_'+base_period].values, fmt='r-', label='Close')\n",
    "ax_close.plot_date(relevant_df.index.values, relevant_df['MA_2_'+base_period].values, fmt='b--', lw=2, label='MA_2')\n",
    "ax_close.plot_date(relevant_df.index.values, relevant_df['MA_5_'+base_period].values, fmt='m:', lw=2, label='MA_5')\n",
    "ax_close.set_ylim([0, ax_close.get_ylim()[1]])\n",
    "profits_dates = np.array(test_record.profits_date)\n",
    "profits = np.array(test_record.profits)\n",
    "ax_profit.plot_date(profits_dates[profits>=0], profits[profits>=0], color='r', ms=8)\n",
    "ax_profit.plot_date(profits_dates[profits<0], profits[profits<0], color='g', ms=8)\n",
    "ax_close.plot_date(test_record.buy_date, relevant_df['Close_'+base_period].ix[test_record.buy_date].values,\n",
    "                   '^', ms=12, label='BUY')\n",
    "ax_close.plot_date(test_record.sell_date, relevant_df['Close_'+base_period].ix[test_record.sell_date].values,\n",
    "                   'v', ms=12, mfc='salmon', label='SELL')\n",
    "ax_profit.plot_date([relevant_df.index.values[0], relevant_df.index.values[-1]], [0, 0], 'k--')\n",
    "for profit_date in profits_dates:\n",
    "    ax_close.plot_date([profit_date, profit_date], ax_close.get_ylim(), ls='--', color='k', lw=1)\n",
    "    ax_profit.plot_date([profit_date, profit_date], ax_profit.get_ylim(), ls='--', color='k', lw=1)\n",
    "ax_close.legend(loc='best')\n",
    "\n",
    "ax_close_pos = ax_close.get_position()\n",
    "ax_macd_pos = [ax_close_pos.x0, ax_close_pos.y0, ax_close_pos.width, ax_close_pos.height/5.0]\n",
    "ax_macd = fig.add_axes(ax_macd_pos, frameon=True, sharex=ax_close)\n",
    "macd_df = (test_record.df[[col_name for col_name in test_record.df.columns\n",
    "                           if col_name[-1]=='m']]\n",
    "           .drop_duplicates()\n",
    "           .set_index('Date_m'))\n",
    "ax_macd.bar(macd_df[macd_df.MACD_m>0].index.values, \n",
    "            macd_df[macd_df.MACD_m>0].MACD_m.values,\n",
    "            width=15, color='salmon')\n",
    "ax_macd.bar(macd_df[macd_df.MACD_m<0].index.values, \n",
    "            macd_df[macd_df.MACD_m<0].MACD_m.values,\n",
    "            width=15, color='steelblue')\n",
    "ax_macd.grid(True)\n",
    "mpld3.display()"
   ]
  },
  {
   "cell_type": "code",
   "execution_count": null,
   "metadata": {
    "collapsed": false
   },
   "outputs": [],
   "source": [
    "reload(recorder)\n",
    "reload(test)"
   ]
  },
  {
   "cell_type": "code",
   "execution_count": null,
   "metadata": {
    "collapsed": false
   },
   "outputs": [],
   "source": [
    "code='300393'\n",
    "test_df = fromDB.get_stock(code, 'qfq')\n",
    "test_record = test.single_stock_maxsize(test_df, Buyer.DadBuyer_1, Seller.DadSeller_1, base_period='w', MA5_p=0.99)\n",
    "fig, ax_close, ax_profit = test_record.get_plot()\n",
    "\n",
    "relevant_df = test_record.get_relevant_df()\n",
    "ax_close.plot_date(relevant_df.index.values, relevant_df['MA_2_'+base_period].values, fmt='b--', lw=2, label='MA_2')\n",
    "ax_close.plot_date(relevant_df.index.values, relevant_df['MA_5_'+base_period].values, fmt='m:', lw=2, label='MA_5')\n",
    "ax_close_pos = ax_close.get_position()\n",
    "ax_macd_pos = [ax_close_pos.x0, ax_close_pos.y0, ax_close_pos.width, ax_close_pos.height/5.0]\n",
    "ax_macd = fig.add_axes(ax_macd_pos, frameon=True, sharex=ax_close)\n",
    "macd_df = (test_record.df[[col_name for col_name in test_record.df.columns\n",
    "                           if col_name[-1]=='m']]\n",
    "           .drop_duplicates()\n",
    "           .set_index('Date_m'))\n",
    "ax_macd.bar(macd_df[macd_df.MACD_m>0].index.values, \n",
    "            macd_df[macd_df.MACD_m>0].MACD_m.values,\n",
    "            width=15, color='salmon')\n",
    "ax_macd.bar(macd_df[macd_df.MACD_m<0].index.values, \n",
    "            macd_df[macd_df.MACD_m<0].MACD_m.values,\n",
    "            width=15, color='steelblue')\n",
    "ax_macd.grid(True)\n",
    "mpld3.display()"
   ]
  },
  {
   "cell_type": "markdown",
   "metadata": {
    "collapsed": true
   },
   "source": [
    "# Checking the data qfq. Only use the `Close` ratio to get all others"
   ]
  },
  {
   "cell_type": "code",
   "execution_count": null,
   "metadata": {
    "collapsed": false
   },
   "outputs": [],
   "source": [
    "from dao.Const import Const"
   ]
  },
  {
   "cell_type": "code",
   "execution_count": null,
   "metadata": {
    "collapsed": false
   },
   "outputs": [],
   "source": [
    "code = 'SZ#300393.txt'\n",
    "file_name_qfq = os.path.join(Const.tdx_base_path, 'qfq', code)\n",
    "file_name_bfq = os.path.join(Const.tdx_base_path, 'bfq', code)\n",
    "df_qfq = pd.read_csv(file_name_qfq, header=None, names = Const.tdx_csv_schema, skipfooter=1, \n",
    "                 parse_dates=[0], infer_datetime_format=True, engine='python')\n",
    "df_bfq = pd.read_csv(file_name_bfq, header=None, names = Const.tdx_csv_schema, skipfooter=1, \n",
    "                 parse_dates=[0], infer_datetime_format=True, engine='python')"
   ]
  },
  {
   "cell_type": "code",
   "execution_count": null,
   "metadata": {
    "collapsed": false
   },
   "outputs": [],
   "source": [
    "epsilon = 0.01 # less than 0.1 cent\n",
    "\n",
    "ratio = df_qfq.Close / df_bfq.Close\n",
    "estimate = pd.DataFrame()\n",
    "estimate.loc[:, 'Open'] = ratio * df_bfq.Open\n",
    "estimate.loc[:, 'High'] = ratio * df_bfq.High\n",
    "estimate.loc[:, 'Low'] = ratio * df_bfq.Low\n",
    "diff = (df_qfq[['Open', 'High', 'Low']] - estimate[['Open', 'High', 'Low']]).abs()"
   ]
  },
  {
   "cell_type": "code",
   "execution_count": null,
   "metadata": {
    "collapsed": false
   },
   "outputs": [],
   "source": [
    "(diff>epsilon).sum()"
   ]
  },
  {
   "cell_type": "code",
   "execution_count": null,
   "metadata": {
    "collapsed": false
   },
   "outputs": [],
   "source": [
    "df_qfq.head()"
   ]
  },
  {
   "cell_type": "code",
   "execution_count": null,
   "metadata": {
    "collapsed": false
   },
   "outputs": [],
   "source": [
    "df_bfq.tail()"
   ]
  },
  {
   "cell_type": "markdown",
   "metadata": {},
   "source": [
    "# qfq bfq is more complicated than I thought"
   ]
  },
  {
   "cell_type": "code",
   "execution_count": null,
   "metadata": {
    "collapsed": false
   },
   "outputs": [],
   "source": [
    "import tushare as ts\n",
    "with open('tk.key', 'r') as f:\n",
    "    token = f.readline()\n",
    "    ts.set_token(token)"
   ]
  },
  {
   "cell_type": "code",
   "execution_count": null,
   "metadata": {
    "collapsed": false
   },
   "outputs": [],
   "source": [
    "from_ts = ts.get_h_data('300393', start='2013-12-30', end = '2016-12-23', drop_factor=False, autype='bfq')"
   ]
  },
  {
   "cell_type": "code",
   "execution_count": null,
   "metadata": {
    "collapsed": false
   },
   "outputs": [],
   "source": [
    "from_ts.head()"
   ]
  },
  {
   "cell_type": "code",
   "execution_count": null,
   "metadata": {
    "collapsed": false
   },
   "outputs": [],
   "source": [
    "from dao import fromTDX"
   ]
  },
  {
   "cell_type": "code",
   "execution_count": null,
   "metadata": {
    "collapsed": false
   },
   "outputs": [],
   "source": [
    "df = fromTDX.get_stock('SZ#000563.txt', 'qfq')"
   ]
  },
  {
   "cell_type": "markdown",
   "metadata": {},
   "source": [
    "# use 雪球"
   ]
  },
  {
   "cell_type": "code",
   "execution_count": null,
   "metadata": {
    "collapsed": true
   },
   "outputs": [],
   "source": [
    "import urllib2,csv,cookielib\n",
    "\n",
    "#site = \"http://xueqiu.com/S/AAPL/historical.csv\"\n",
    "#site= \"http://www.nseindia.com/live_market/dynaContent/live_watch/get_quote/getHistoricalData.jsp?symbol=JPASSOCIAT&fromDate=1-JAN-2012&toDate=1-AUG-2012&datePeriod=unselected&hiddDwnld=true\"\n",
    "hdr = {'User-Agent': 'Mozilla/5.0 (X11; Linux x86_64) AppleWebKit/537.11 (KHTML, like Gecko) Chrome/23.0.1271.64 Safari/537.11',\n",
    "       'Accept': 'text/html,application/xhtml+xml,application/xml;q=0.9,*/*;q=0.8',\n",
    "       'Accept-Charset': 'ISO-8859-1,utf-8;q=0.7,*;q=0.3',\n",
    "       'Accept-Encoding': 'none',\n",
    "       'Accept-Language': 'en-US,en;q=0.8',\n",
    "       'Connection': 'keep-alive'}\n",
    "\n",
    "#req = urllib2.Request(site, headers=hdr)\n",
    "symbolTest = 'APPL'\n",
    "Exchange = 'NASDAQ'\n",
    "\n",
    "try:\n",
    "    with open(Exchange +'.csv') as csvfile:\n",
    "        reader = csv.DictReader(csvfile)\n",
    "        for row in reader:\n",
    "            print(row['Symbol'], row['Name'])\n",
    "            symbol = row['Symbol'].strip()\n",
    "\n",
    "            if '^' not in symbol:\n",
    "                site = \"http://xueqiu.com/S/\" + symbol + \"/historical.csv\"\n",
    "                req = urllib2.Request(site, headers=hdr)\n",
    "                page = urllib2.urlopen(req)\n",
    "                #content = page.read()\n",
    "                with open(Exchange + '/'+symbol+'.csv','w') as symbolCSV:\n",
    "                    symbolCSV.write(page.read())\n",
    "            else:\n",
    "                print 'symbol contains ^, not valid, passed...'\n",
    "\n",
    "except urllib2.HTTPError, e:\n",
    "    print e.fp.read()"
   ]
  },
  {
   "cell_type": "code",
   "execution_count": null,
   "metadata": {
    "collapsed": true
   },
   "outputs": [],
   "source": [
    "import urllib2\n",
    "import pandas as pd\n",
    "\n",
    "hdr = {'User-Agent': 'Mozilla/5.0 (X11; Linux x86_64) AppleWebKit/537.11 (KHTML, like Gecko) Chrome/23.0.1271.64 Safari/537.11',\n",
    "       'Accept': 'text/html,application/xhtml+xml,application/xml;q=0.9,*/*;q=0.8',\n",
    "       'Accept-Charset': 'ISO-8859-1,utf-8;q=0.7,*;q=0.3',\n",
    "       'Accept-Encoding': 'none',\n",
    "       'Accept-Language': 'en-US,en;q=0.8',\n",
    "       'Connection': 'keep-alive'}\n",
    "\n",
    "site = \"http://xueqiu.com/S/\" + \"SZ000030\" + \"/historical.csv\"\n",
    "req = urllib2.Request(site, headers=hdr)\n",
    "page = urllib2.urlopen(req)\n",
    "\n",
    "df = pd.read_csv(page)"
   ]
  },
  {
   "cell_type": "code",
   "execution_count": null,
   "metadata": {
    "collapsed": false
   },
   "outputs": [],
   "source": [
    "df.head()"
   ]
  },
  {
   "cell_type": "markdown",
   "metadata": {},
   "source": [
    "# Use requests session"
   ]
  },
  {
   "cell_type": "code",
   "execution_count": null,
   "metadata": {
    "collapsed": false
   },
   "outputs": [],
   "source": [
    "import requests\n",
    "import io\n",
    "\n",
    "with requests.Session() as s:\n",
    "    s.headers.update(hdr)\n",
    "    r = s.get(site)\n",
    "    if r.status_code == 200:\n",
    "        csv = r.content.decode('utf8')\n",
    "        df = pd.read_csv(io.StringIO(csv), parse_dates=['date'], infer_datetime_format=True)\n",
    "        print df.head()  \n",
    "    else:\n",
    "        print r.status_code"
   ]
  },
  {
   "cell_type": "markdown",
   "metadata": {},
   "source": [
    "# Parse js generated webpage"
   ]
  },
  {
   "cell_type": "code",
   "execution_count": null,
   "metadata": {
    "collapsed": false
   },
   "outputs": [],
   "source": [
    "import pandas as pd\n",
    "from pandas.io import html as pd_html\n",
    "from selenium import webdriver\n",
    "from selenium.common.exceptions import NoSuchElementException\n",
    "from selenium.common.exceptions import StaleElementReferenceException\n",
    "from time import sleep\n",
    "\n",
    "driver = webdriver.Chrome() # ChromeDriver need be installed by Homebrew\n",
    "driver.implicitly_wait(10) # This line will cause it to search for 10 seconds\n",
    "url_test = 'https://xueqiu.com/S/SZ000030/FHPS'\n",
    "driver.get(url_test)\n",
    "\n",
    "dividen_dfs = []\n",
    "while True:\n",
    "    try:\n",
    "        table = driver.find_element_by_xpath('//table[@class=\"dataTable table table-bordered\"]')\n",
    "        table_html = table.get_attribute('outerHTML')\n",
    "        df = pd_html.read_html(table_html, na_values = '-')\n",
    "        \n",
    "        # below is just some normal dataframe munging\n",
    "        processed_df = df[0].T\n",
    "        processed_df.columns = processed_df.iloc[0,:]\n",
    "        processed_df = processed_df.drop(0, axis=0)\n",
    "        processed_df = processed_df.reset_index(drop=True)\n",
    "        dividen_dfs.append(processed_df)\n",
    "        \n",
    "        # get the link and click on the link\n",
    "        link = driver.find_element_by_link_text(u'下一页')\n",
    "        link.click()\n",
    "        sleep(0.1)\n",
    "    except NoSuchElementException:\n",
    "        # no more 'next page'\n",
    "        break\n",
    "    except StaleElementReferenceException:\n",
    "        # the new form not loaded yet\n",
    "        print 'stale'\n",
    "        sleep(0.1)\n",
    "        \n",
    "driver.close()\n",
    "dividen_df = pd.concat(dividen_dfs).drop_duplicates().reset_index(drop=True)"
   ]
  },
  {
   "cell_type": "code",
   "execution_count": null,
   "metadata": {
    "collapsed": false
   },
   "outputs": [],
   "source": [
    "dividen_df"
   ]
  },
  {
   "cell_type": "code",
   "execution_count": null,
   "metadata": {
    "collapsed": false
   },
   "outputs": [],
   "source": [
    "from contextlib import contextmanager\n",
    "from selenium.webdriver.support.ui import WebDriverWait\n",
    "from selenium.webdriver.support import expected_conditions as EC\n",
    "from selenium.webdriver.common.by import By\n",
    "from selenium import webdriver\n",
    "\n",
    "\n",
    "\n",
    "@contextmanager\n",
    "def wait_for_page_load(driver, timeout=10):\n",
    "    # I used chrome to get this xpath\n",
    "    check_ele = driver.find_element_by_xpath('//*[@id=\"center\"]/div[2]/div[2]/div[2]/div')\n",
    "    check_text = check_ele.text\n",
    "    if check_text == u'暂无数据':\n",
    "        old_td = None\n",
    "        yield\n",
    "    else:\n",
    "        old_td = driver.find_element_by_xpath('//*[@id=\"center\"]/div[2]/div[2]/div[2]/div[1]/table/tbody/tr[1]/td[2]')\n",
    "        yield \n",
    "    # yield nothing, just want keep the current state of old_td \n",
    "    # when exit the with wait_for_page_load block, the next line\n",
    "    # make sure that the old_td will be changed, or 'no next page' element showing up\n",
    "    if old_td:\n",
    "        WebDriverWait(driver, timeout=timeout).until(EC.staleness_of(old_td))\n",
    "    \n",
    "\n",
    "@contextmanager\n",
    "def open_driver():\n",
    "    driver = webdriver.Chrome()\n",
    "    driver.implicitly_wait(10) # This line will cause it to wait upto 10 seconds if an element is not there\n",
    "    yield driver\n",
    "    driver.quit()\n",
    "\n"
   ]
  },
  {
   "cell_type": "code",
   "execution_count": null,
   "metadata": {
    "collapsed": false
   },
   "outputs": [],
   "source": [
    "import pandas as pd\n",
    "from pandas.io import html as pd_html\n",
    "from selenium import webdriver\n",
    "from selenium.common.exceptions import NoSuchElementException\n",
    "from selenium.common.exceptions import StaleElementReferenceException\n",
    "from selenium.common.exceptions import TimeoutException\n",
    "\n",
    "\n",
    "\n",
    "# driver = webdriver.Chrome() # ChromeDriver need be installed by Homebrew\n",
    "# driver.implicitly_wait(10) # This line will cause it to search for 10 seconds\n",
    "with open_driver() as driver:\n",
    "    url_test = 'https://xueqiu.com/S/SH600000/FHPS'\n",
    "    driver.get(url_test)\n",
    "\n",
    "    dividen_dfs = []\n",
    "    while True:\n",
    "        with wait_for_page_load(driver):\n",
    "            check_ele = driver.find_element_by_xpath('//*[@id=\"center\"]/div[2]/div[2]/div[2]/div')\n",
    "            check_text = check_ele.text\n",
    "            if check_text == u'暂无数据':\n",
    "                break\n",
    "            table = driver.find_element_by_xpath('//table[@class=\"dataTable table table-bordered\"]')\n",
    "            table_html = table.get_attribute('outerHTML')\n",
    "            df = pd_html.read_html(table_html, na_values = '-')\n",
    "\n",
    "            # below is just some normal dataframe munging\n",
    "            processed_df = df[0].T\n",
    "            processed_df.columns = processed_df.iloc[0,:]\n",
    "            processed_df = processed_df.drop(0, axis=0)\n",
    "            processed_df = processed_df.reset_index(drop=True)\n",
    "            dividen_dfs.append(processed_df)\n",
    "\n",
    "            # get the link and click on the link\n",
    "            link = driver.find_element_by_link_text(u'下一页')\n",
    "#             print link.get_attribute('class')\n",
    "#             print type(link.get_attribute('class'))\n",
    "#             if 'noClick' in link.get_attribute('class'):\n",
    "#                 break\n",
    "            link.click()\n",
    "        \n",
    "dividen_df = pd.concat(dividen_dfs).drop_duplicates().reset_index(drop=True)\n",
    "dividen_df"
   ]
  },
  {
   "cell_type": "code",
   "execution_count": null,
   "metadata": {
    "collapsed": false
   },
   "outputs": [],
   "source": [
    "cleaned_df = dividen_df.iloc[:,[3,4,5,7,11,12]].copy()\n",
    "cleaned_df.columns=['Sg_ratio', 'Zg_ratio', 'Date_regi', 'Dividend', 'Date_Zg', 'Date_Sg']\n",
    "cleaned_df.head(2)\n",
    "for col_name in cleaned_df.columns:\n",
    "    if col_name[:4] == 'Date':\n",
    "        cleaned_df.loc[:, col_name] = pd.to_datetime(cleaned_df.loc[:, col_name], errors='coerce', infer_datetime_format=True)\n",
    "    if col_name[-5:] == 'ratio':\n",
    "        cleaned_df.loc[:, col_name] = cleaned_df.loc[:, col_name].astype(float).fillna(0)/float(10)\n",
    "    if col_name == 'Dividend':\n",
    "        cleaned_df.loc[:, col_name] = cleaned_df.loc[:, col_name].astype(float).fillna(0)\n",
    "# cleaned_df.columns = ['fhpg.{}'.format(name) for name in cleaned_df.columns]\n",
    "cleaned_df.to_dict('records')   "
   ]
  },
  {
   "cell_type": "code",
   "execution_count": null,
   "metadata": {
    "collapsed": false
   },
   "outputs": [],
   "source": [
    "[dict(v.dropna()) for k, v in cleaned_df.iterrows()]"
   ]
  },
  {
   "cell_type": "markdown",
   "metadata": {},
   "source": [
    "# Testing nested data in Mongodb"
   ]
  },
  {
   "cell_type": "code",
   "execution_count": 173,
   "metadata": {
    "collapsed": false
   },
   "outputs": [],
   "source": [
    "import pymongo\n",
    "client = pymongo.MongoClient(host='localhost', port=27017)\n",
    "db = client['personalTrader']\n",
    "symbol_coll = db['symbol']"
   ]
  },
  {
   "cell_type": "markdown",
   "metadata": {},
   "source": [
    "## Insert dataframe into an array of embedded sub-documents"
   ]
  },
  {
   "cell_type": "code",
   "execution_count": 218,
   "metadata": {
    "collapsed": false,
    "scrolled": true
   },
   "outputs": [
    {
     "data": {
      "text/plain": [
       "{u'TDXname': u'SH#600589.txt',\n",
       " u'_id': ObjectId('58622523208c8e0a0b0d966b'),\n",
       " u'area': u'\\u5e7f\\u4e1c',\n",
       " u'bvps': 4.18,\n",
       " u'code': u'600589',\n",
       " u'data_end': datetime.datetime(2016, 12, 27, 0, 0),\n",
       " u'data_start': datetime.datetime(2001, 6, 12, 0, 0),\n",
       " u'esp': 0.11199999999999999,\n",
       " u'fhps': [{u'Date': datetime.datetime(2002, 6, 6, 0, 0),\n",
       "   u'Fh': 0.15,\n",
       "   u'Ps': 0.0},\n",
       "  {u'Date': datetime.datetime(2003, 6, 5, 0, 0), u'Fh': 0.2, u'Ps': 0.0},\n",
       "  {u'Date': datetime.datetime(2004, 6, 10, 0, 0), u'Fh': 0.25, u'Ps': 0.2},\n",
       "  {u'Date': datetime.datetime(2005, 6, 22, 0, 0), u'Fh': 0.2, u'Ps': 0.0},\n",
       "  {u'Date': datetime.datetime(2006, 6, 26, 0, 0), u'Fh': 0.1, u'Ps': 0.0},\n",
       "  {u'Date': datetime.datetime(2007, 6, 6, 0, 0), u'Fh': 0.05, u'Ps': 0.5},\n",
       "  {u'Date': datetime.datetime(2008, 5, 14, 0, 0), u'Fh': 0.05, u'Ps': 0.5},\n",
       "  {u'Date': datetime.datetime(2009, 5, 14, 0, 0), u'Fh': 0.02, u'Ps': 0.0},\n",
       "  {u'Date': datetime.datetime(2010, 6, 1, 0, 0), u'Fh': 0.02, u'Ps': 0.0},\n",
       "  {u'Date': datetime.datetime(2011, 7, 8, 0, 0), u'Fh': 0.025, u'Ps': 0.0},\n",
       "  {u'Date': datetime.datetime(2012, 7, 5, 0, 0), u'Fh': 0.015, u'Ps': 0.0},\n",
       "  {u'Date': datetime.datetime(2013, 7, 12, 0, 0),\n",
       "   u'Fh': 0.05500000000000001,\n",
       "   u'Ps': 0.0},\n",
       "  {u'Date': datetime.datetime(2014, 7, 16, 0, 0),\n",
       "   u'Fh': 0.028000000000000004,\n",
       "   u'Ps': 0.0},\n",
       "  {u'Date': datetime.datetime(2015, 7, 14, 0, 0), u'Fh': 0.0155, u'Ps': 0.0},\n",
       "  {u'Date': datetime.datetime(2016, 7, 20, 0, 0), u'Fh': 0.009, u'Ps': 0.0}],\n",
       " u'fixedAssets': 68550.13,\n",
       " u'gpr': 26.47,\n",
       " u'holders': 48072,\n",
       " u'industry': u'\\u5851\\u6599',\n",
       " u'liquidAssets': 227593.55,\n",
       " u'name': u'\\u5e7f\\u4e1c\\u6995\\u6cf0',\n",
       " u'ncode': u'600589.SS',\n",
       " u'npr': 8.39,\n",
       " u'outstanding': 6.02,\n",
       " u'pb': 2.16,\n",
       " u'pe': 60.24,\n",
       " u'perundp': 1.14,\n",
       " u'profit': 204.37,\n",
       " u'reserved': 129970.5,\n",
       " u'reservedPerShare': 1.84,\n",
       " u'rev': 25.72,\n",
       " u'timeToMarket': datetime.datetime(2001, 6, 12, 0, 0),\n",
       " u'totalAssets': 496801.09,\n",
       " u'totals': 7.05,\n",
       " u'undp': 80589.43}"
      ]
     },
     "execution_count": 218,
     "metadata": {},
     "output_type": "execute_result"
    }
   ],
   "source": [
    "symbol_coll.update_one({'code':code}, \n",
    "                       {'$set': {'fhps': [dict(v.dropna()) for k, v in fhps_df[['Date', 'Fh', 'Ps']].iterrows()]}}, \n",
    "                       upsert=False)\n",
    "symbol_coll.find_one({'code':code})"
   ]
  },
  {
   "cell_type": "markdown",
   "metadata": {},
   "source": [
    "## get the dataframe back from mongodb"
   ]
  },
  {
   "cell_type": "markdown",
   "metadata": {},
   "source": [
    "### By `$project`"
   ]
  },
  {
   "cell_type": "code",
   "execution_count": 189,
   "metadata": {
    "collapsed": false
   },
   "outputs": [
    {
     "data": {
      "text/html": [
       "<div>\n",
       "<table border=\"1\" class=\"dataframe\">\n",
       "  <thead>\n",
       "    <tr style=\"text-align: right;\">\n",
       "      <th></th>\n",
       "      <th>Date</th>\n",
       "      <th>Fh</th>\n",
       "      <th>Ps</th>\n",
       "    </tr>\n",
       "  </thead>\n",
       "  <tbody>\n",
       "    <tr>\n",
       "      <th>0</th>\n",
       "      <td>2002-06-06</td>\n",
       "      <td>0.15</td>\n",
       "      <td>0.0</td>\n",
       "    </tr>\n",
       "    <tr>\n",
       "      <th>1</th>\n",
       "      <td>2003-06-05</td>\n",
       "      <td>0.20</td>\n",
       "      <td>0.0</td>\n",
       "    </tr>\n",
       "    <tr>\n",
       "      <th>2</th>\n",
       "      <td>2004-06-10</td>\n",
       "      <td>0.25</td>\n",
       "      <td>0.2</td>\n",
       "    </tr>\n",
       "    <tr>\n",
       "      <th>3</th>\n",
       "      <td>2005-06-22</td>\n",
       "      <td>0.20</td>\n",
       "      <td>0.0</td>\n",
       "    </tr>\n",
       "    <tr>\n",
       "      <th>4</th>\n",
       "      <td>2006-06-26</td>\n",
       "      <td>0.10</td>\n",
       "      <td>0.0</td>\n",
       "    </tr>\n",
       "  </tbody>\n",
       "</table>\n",
       "</div>"
      ],
      "text/plain": [
       "        Date    Fh   Ps\n",
       "0 2002-06-06  0.15  0.0\n",
       "1 2003-06-05  0.20  0.0\n",
       "2 2004-06-10  0.25  0.2\n",
       "3 2005-06-22  0.20  0.0\n",
       "4 2006-06-26  0.10  0.0"
      ]
     },
     "execution_count": 189,
     "metadata": {},
     "output_type": "execute_result"
    }
   ],
   "source": [
    "p_match = {'$match':{'code':code}}\n",
    "p_project = {'$project': {'fhps':1, '_id':0}}\n",
    "pipeline=[p_match, p_project]\n",
    "df = pd.DataFrame(list(symbol_coll.aggregate(pipeline))[0]['fhps'])\n",
    "df.head()"
   ]
  },
  {
   "cell_type": "markdown",
   "metadata": {},
   "source": [
    "### By `$unwind`"
   ]
  },
  {
   "cell_type": "code",
   "execution_count": 196,
   "metadata": {
    "collapsed": false
   },
   "outputs": [
    {
     "data": {
      "text/html": [
       "<div>\n",
       "<table border=\"1\" class=\"dataframe\">\n",
       "  <thead>\n",
       "    <tr style=\"text-align: right;\">\n",
       "      <th></th>\n",
       "      <th>Date</th>\n",
       "      <th>Fh</th>\n",
       "      <th>Ps</th>\n",
       "    </tr>\n",
       "  </thead>\n",
       "  <tbody>\n",
       "    <tr>\n",
       "      <th>0</th>\n",
       "      <td>2002-06-06</td>\n",
       "      <td>0.15</td>\n",
       "      <td>0.0</td>\n",
       "    </tr>\n",
       "    <tr>\n",
       "      <th>1</th>\n",
       "      <td>2003-06-05</td>\n",
       "      <td>0.20</td>\n",
       "      <td>0.0</td>\n",
       "    </tr>\n",
       "    <tr>\n",
       "      <th>2</th>\n",
       "      <td>2004-06-10</td>\n",
       "      <td>0.25</td>\n",
       "      <td>0.2</td>\n",
       "    </tr>\n",
       "    <tr>\n",
       "      <th>3</th>\n",
       "      <td>2005-06-22</td>\n",
       "      <td>0.20</td>\n",
       "      <td>0.0</td>\n",
       "    </tr>\n",
       "    <tr>\n",
       "      <th>4</th>\n",
       "      <td>2006-06-26</td>\n",
       "      <td>0.10</td>\n",
       "      <td>0.0</td>\n",
       "    </tr>\n",
       "  </tbody>\n",
       "</table>\n",
       "</div>"
      ],
      "text/plain": [
       "        Date    Fh   Ps\n",
       "0 2002-06-06  0.15  0.0\n",
       "1 2003-06-05  0.20  0.0\n",
       "2 2004-06-10  0.25  0.2\n",
       "3 2005-06-22  0.20  0.0\n",
       "4 2006-06-26  0.10  0.0"
      ]
     },
     "execution_count": 196,
     "metadata": {},
     "output_type": "execute_result"
    }
   ],
   "source": [
    "p_match = {'$match':{'code':code}}\n",
    "p_project = {'$project': {'fhps':1, '_id':0}}\n",
    "p_unwind = {'$unwind': {'path':'$fhps'}}\n",
    "pipeline=[p_match, p_project, p_unwind]\n",
    "df = pd.DataFrame([record['fhps'] for record in symbol_coll.aggregate(pipeline)])\n",
    "df.head()"
   ]
  },
  {
   "cell_type": "markdown",
   "metadata": {},
   "source": [
    "## get only one column of the dataframe back from mongodb "
   ]
  },
  {
   "cell_type": "code",
   "execution_count": 201,
   "metadata": {
    "collapsed": false
   },
   "outputs": [
    {
     "data": {
      "text/html": [
       "<div>\n",
       "<table border=\"1\" class=\"dataframe\">\n",
       "  <thead>\n",
       "    <tr style=\"text-align: right;\">\n",
       "      <th></th>\n",
       "      <th>Date</th>\n",
       "    </tr>\n",
       "  </thead>\n",
       "  <tbody>\n",
       "    <tr>\n",
       "      <th>0</th>\n",
       "      <td>2002-06-06</td>\n",
       "    </tr>\n",
       "    <tr>\n",
       "      <th>1</th>\n",
       "      <td>2003-06-05</td>\n",
       "    </tr>\n",
       "    <tr>\n",
       "      <th>2</th>\n",
       "      <td>2004-06-10</td>\n",
       "    </tr>\n",
       "    <tr>\n",
       "      <th>3</th>\n",
       "      <td>2005-06-22</td>\n",
       "    </tr>\n",
       "    <tr>\n",
       "      <th>4</th>\n",
       "      <td>2006-06-26</td>\n",
       "    </tr>\n",
       "  </tbody>\n",
       "</table>\n",
       "</div>"
      ],
      "text/plain": [
       "        Date\n",
       "0 2002-06-06\n",
       "1 2003-06-05\n",
       "2 2004-06-10\n",
       "3 2005-06-22\n",
       "4 2006-06-26"
      ]
     },
     "execution_count": 201,
     "metadata": {},
     "output_type": "execute_result"
    }
   ],
   "source": [
    "p_match = {'$match':{'code':code}}\n",
    "p_unwind = {'$unwind': {'path':'$fhps'}}\n",
    "p_project = {'$project': {'Date': '$fhps.Date', '_id':0}}\n",
    "pipeline=[p_match, p_unwind, p_project]\n",
    "df = pd.DataFrame(list(symbol_coll.aggregate(pipeline)))"
   ]
  },
  {
   "cell_type": "markdown",
   "metadata": {},
   "source": [
    "### Get matching rows of the dataframe back from mongodb"
   ]
  },
  {
   "cell_type": "markdown",
   "metadata": {},
   "source": [
    "#### The following two methods only return the first match"
   ]
  },
  {
   "cell_type": "code",
   "execution_count": 205,
   "metadata": {
    "collapsed": false
   },
   "outputs": [
    {
     "data": {
      "text/plain": [
       "{u'fhps': [{u'Date': datetime.datetime(2002, 6, 6, 0, 0),\n",
       "   u'Fh': 0.15,\n",
       "   u'Ps': 0.0}]}"
      ]
     },
     "execution_count": 205,
     "metadata": {},
     "output_type": "execute_result"
    }
   ],
   "source": [
    "symbol_coll.find_one({'code': code}, \n",
    "                     {'fhps': {'$elemMatch': {'Fh': {'$gt': 0.01}}}, '_id':0})"
   ]
  },
  {
   "cell_type": "code",
   "execution_count": 210,
   "metadata": {
    "collapsed": false
   },
   "outputs": [
    {
     "data": {
      "text/plain": [
       "{u'fhps': [{u'Date': datetime.datetime(2002, 6, 6, 0, 0),\n",
       "   u'Fh': 0.15,\n",
       "   u'Ps': 0.0}]}"
      ]
     },
     "execution_count": 210,
     "metadata": {},
     "output_type": "execute_result"
    }
   ],
   "source": [
    "symbol_coll.find_one({'code':code, \n",
    "                      'fhps.Date':{'$lt':date_parser.parse('2012-06-25')}},\n",
    "                     {'fhps.$':1, '_id':0})"
   ]
  },
  {
   "cell_type": "markdown",
   "metadata": {},
   "source": [
    "#### The correct method"
   ]
  },
  {
   "cell_type": "code",
   "execution_count": 219,
   "metadata": {
    "collapsed": false
   },
   "outputs": [
    {
     "data": {
      "text/html": [
       "<div>\n",
       "<table border=\"1\" class=\"dataframe\">\n",
       "  <thead>\n",
       "    <tr style=\"text-align: right;\">\n",
       "      <th></th>\n",
       "      <th>Date</th>\n",
       "      <th>Fh</th>\n",
       "      <th>Ps</th>\n",
       "    </tr>\n",
       "  </thead>\n",
       "  <tbody>\n",
       "    <tr>\n",
       "      <th>0</th>\n",
       "      <td>2012-07-05</td>\n",
       "      <td>0.0150</td>\n",
       "      <td>0.0</td>\n",
       "    </tr>\n",
       "    <tr>\n",
       "      <th>1</th>\n",
       "      <td>2013-07-12</td>\n",
       "      <td>0.0550</td>\n",
       "      <td>0.0</td>\n",
       "    </tr>\n",
       "    <tr>\n",
       "      <th>2</th>\n",
       "      <td>2014-07-16</td>\n",
       "      <td>0.0280</td>\n",
       "      <td>0.0</td>\n",
       "    </tr>\n",
       "    <tr>\n",
       "      <th>3</th>\n",
       "      <td>2015-07-14</td>\n",
       "      <td>0.0155</td>\n",
       "      <td>0.0</td>\n",
       "    </tr>\n",
       "    <tr>\n",
       "      <th>4</th>\n",
       "      <td>2016-07-20</td>\n",
       "      <td>0.0090</td>\n",
       "      <td>0.0</td>\n",
       "    </tr>\n",
       "  </tbody>\n",
       "</table>\n",
       "</div>"
      ],
      "text/plain": [
       "        Date      Fh   Ps\n",
       "0 2012-07-05  0.0150  0.0\n",
       "1 2013-07-12  0.0550  0.0\n",
       "2 2014-07-16  0.0280  0.0\n",
       "3 2015-07-14  0.0155  0.0\n",
       "4 2016-07-20  0.0090  0.0"
      ]
     },
     "execution_count": 219,
     "metadata": {},
     "output_type": "execute_result"
    }
   ],
   "source": [
    "p_match = {'$match':{'code':code}}\n",
    "p_project = {'$project': {'fhps':{'$filter':{'input':'$fhps', \n",
    "                                             'as':'fhps_f',\n",
    "                                             'cond':{'$gt': ['$$fhps_f.Date', date_parser.parse('2012-06-25')]}}},\n",
    "                          '_id':0}}\n",
    "pipeline=[p_match, p_project]\n",
    "df = pd.DataFrame(list(symbol_coll.aggregate(pipeline))[0]['fhps'])\n",
    "df"
   ]
  },
  {
   "cell_type": "markdown",
   "metadata": {},
   "source": [
    "## Remove the dataframe"
   ]
  },
  {
   "cell_type": "code",
   "execution_count": 216,
   "metadata": {
    "collapsed": false
   },
   "outputs": [],
   "source": [
    "res = symbol_coll.update_one({'code':code}, {'$unset':{'fhps':''}}) # note the empty ''"
   ]
  },
  {
   "cell_type": "markdown",
   "metadata": {
    "collapsed": true
   },
   "source": [
    "# Testing of Yahoo API"
   ]
  },
  {
   "cell_type": "markdown",
   "metadata": {},
   "source": [
    "## <font color='red'>雅虎的API里面没有增股的数据，只有送股的数据，不用</font>"
   ]
  },
  {
   "cell_type": "code",
   "execution_count": 77,
   "metadata": {
    "collapsed": false
   },
   "outputs": [
    {
     "data": {
      "text/html": [
       "<div>\n",
       "<table border=\"1\" class=\"dataframe\">\n",
       "  <thead>\n",
       "    <tr style=\"text-align: right;\">\n",
       "      <th></th>\n",
       "      <th>Date</th>\n",
       "      <th>Fh</th>\n",
       "      <th>Ps</th>\n",
       "    </tr>\n",
       "  </thead>\n",
       "  <tbody>\n",
       "    <tr>\n",
       "      <th>0</th>\n",
       "      <td>2002-06-27</td>\n",
       "      <td>0.12</td>\n",
       "      <td>0.0</td>\n",
       "    </tr>\n",
       "    <tr>\n",
       "      <th>1</th>\n",
       "      <td>2003-04-30</td>\n",
       "      <td>0.05</td>\n",
       "      <td>0.2</td>\n",
       "    </tr>\n",
       "    <tr>\n",
       "      <th>2</th>\n",
       "      <td>2004-06-03</td>\n",
       "      <td>0.15</td>\n",
       "      <td>0.2</td>\n",
       "    </tr>\n",
       "    <tr>\n",
       "      <th>3</th>\n",
       "      <td>2005-06-16</td>\n",
       "      <td>0.35</td>\n",
       "      <td>0.0</td>\n",
       "    </tr>\n",
       "    <tr>\n",
       "      <th>4</th>\n",
       "      <td>2006-06-01</td>\n",
       "      <td>0.35</td>\n",
       "      <td>0.0</td>\n",
       "    </tr>\n",
       "    <tr>\n",
       "      <th>5</th>\n",
       "      <td>2007-07-05</td>\n",
       "      <td>0.25</td>\n",
       "      <td>0.0</td>\n",
       "    </tr>\n",
       "    <tr>\n",
       "      <th>6</th>\n",
       "      <td>2008-04-17</td>\n",
       "      <td>0.25</td>\n",
       "      <td>0.0</td>\n",
       "    </tr>\n",
       "    <tr>\n",
       "      <th>7</th>\n",
       "      <td>2009-05-21</td>\n",
       "      <td>0.15</td>\n",
       "      <td>0.0</td>\n",
       "    </tr>\n",
       "    <tr>\n",
       "      <th>8</th>\n",
       "      <td>2010-06-17</td>\n",
       "      <td>0.09</td>\n",
       "      <td>0.0</td>\n",
       "    </tr>\n",
       "    <tr>\n",
       "      <th>9</th>\n",
       "      <td>2011-08-08</td>\n",
       "      <td>0.10</td>\n",
       "      <td>0.0</td>\n",
       "    </tr>\n",
       "    <tr>\n",
       "      <th>10</th>\n",
       "      <td>2012-06-11</td>\n",
       "      <td>0.10</td>\n",
       "      <td>0.0</td>\n",
       "    </tr>\n",
       "    <tr>\n",
       "      <th>11</th>\n",
       "      <td>2013-06-14</td>\n",
       "      <td>0.10</td>\n",
       "      <td>0.0</td>\n",
       "    </tr>\n",
       "    <tr>\n",
       "      <th>12</th>\n",
       "      <td>2014-06-20</td>\n",
       "      <td>0.10</td>\n",
       "      <td>0.0</td>\n",
       "    </tr>\n",
       "    <tr>\n",
       "      <th>13</th>\n",
       "      <td>2015-07-17</td>\n",
       "      <td>0.10</td>\n",
       "      <td>0.0</td>\n",
       "    </tr>\n",
       "    <tr>\n",
       "      <th>14</th>\n",
       "      <td>2016-06-08</td>\n",
       "      <td>0.10</td>\n",
       "      <td>0.0</td>\n",
       "    </tr>\n",
       "  </tbody>\n",
       "</table>\n",
       "</div>"
      ],
      "text/plain": [
       "         Date    Fh   Ps\n",
       "0  2002-06-27  0.12  0.0\n",
       "1  2003-04-30  0.05  0.2\n",
       "2  2004-06-03  0.15  0.2\n",
       "3  2005-06-16  0.35  0.0\n",
       "4  2006-06-01  0.35  0.0\n",
       "5  2007-07-05  0.25  0.0\n",
       "6  2008-04-17  0.25  0.0\n",
       "7  2009-05-21  0.15  0.0\n",
       "8  2010-06-17  0.09  0.0\n",
       "9  2011-08-08  0.10  0.0\n",
       "10 2012-06-11  0.10  0.0\n",
       "11 2013-06-14  0.10  0.0\n",
       "12 2014-06-20  0.10  0.0\n",
       "13 2015-07-17  0.10  0.0\n",
       "14 2016-06-08  0.10  0.0"
      ]
     },
     "execution_count": 77,
     "metadata": {},
     "output_type": "execute_result"
    }
   ],
   "source": [
    "import requests\n",
    "import pandas as pd\n",
    "from dateutil import parser as date_parser\n",
    "\n",
    "base_url = 'http://ichart.finance.yahoo.com/x?'\n",
    "ncode = '600033.SS'\n",
    "params = {'g':'v',\n",
    "          's':ncode}\n",
    "r = requests.get(base_url, params=params)\n",
    "r.status_code\n",
    "\n",
    "fhps_records = []\n",
    "for line in r.iter_lines():\n",
    "    if line[:5]=='DIVID':\n",
    "        tokens = line.strip().split(',')\n",
    "        fhps_date = date_parser.parse(tokens[1].strip())\n",
    "        fh_amt = float(tokens[2].strip())\n",
    "        fhps_records.append({'Date':fhps_date, 'Fh':fh_amt})\n",
    "    elif line[:5] == 'SPLIT':\n",
    "        tokens = line.strip().split(',')\n",
    "        fhps_date = date_parser.parse(tokens[1].strip())\n",
    "        ps_amt = (int(tokens[2].strip().split(':')[0].strip()) - int(tokens[2].strip().split(':')[1].strip())) / float(tokens[2].strip().split(':')[1].strip())\n",
    "        fhps_records.append({'Date':fhps_date, 'Ps':ps_amt})\n",
    "\n",
    "fhps_df = pd.DataFrame(fhps_records)\n",
    "\n",
    "for field in ['Fh', 'Ps']:\n",
    "    if field not in fhps_df:\n",
    "        fhps_df.loc[:, field] = 0.0\n",
    "\n",
    "fhps_df.loc[:, ['Fh', 'Ps']] = fhps_df.loc[:, ['Fh', 'Ps']].fillna(0.0)\n",
    "fhps_df = fhps_df.groupby('Date').sum().reset_index().sort_values('Date')\n",
    "fhps_df"
   ]
  },
  {
   "cell_type": "code",
   "execution_count": null,
   "metadata": {
    "collapsed": false
   },
   "outputs": [],
   "source": [
    "for line in r.iter_lines():\n",
    "    print line"
   ]
  },
  {
   "cell_type": "markdown",
   "metadata": {},
   "source": [
    "# Use Sohu API"
   ]
  },
  {
   "cell_type": "code",
   "execution_count": 75,
   "metadata": {
    "collapsed": false
   },
   "outputs": [
    {
     "data": {
      "text/html": [
       "<div>\n",
       "<table border=\"1\" class=\"dataframe\">\n",
       "  <thead>\n",
       "    <tr style=\"text-align: right;\">\n",
       "      <th></th>\n",
       "      <th>Date</th>\n",
       "      <th>Fh</th>\n",
       "      <th>Ps</th>\n",
       "    </tr>\n",
       "  </thead>\n",
       "  <tbody>\n",
       "    <tr>\n",
       "      <th>14</th>\n",
       "      <td>2002-06-06</td>\n",
       "      <td>0.1500</td>\n",
       "      <td>0.0</td>\n",
       "    </tr>\n",
       "    <tr>\n",
       "      <th>13</th>\n",
       "      <td>2003-06-05</td>\n",
       "      <td>0.2000</td>\n",
       "      <td>0.0</td>\n",
       "    </tr>\n",
       "    <tr>\n",
       "      <th>12</th>\n",
       "      <td>2004-06-10</td>\n",
       "      <td>0.2500</td>\n",
       "      <td>0.2</td>\n",
       "    </tr>\n",
       "    <tr>\n",
       "      <th>11</th>\n",
       "      <td>2005-06-22</td>\n",
       "      <td>0.2000</td>\n",
       "      <td>0.0</td>\n",
       "    </tr>\n",
       "    <tr>\n",
       "      <th>10</th>\n",
       "      <td>2006-06-26</td>\n",
       "      <td>0.1000</td>\n",
       "      <td>0.0</td>\n",
       "    </tr>\n",
       "    <tr>\n",
       "      <th>9</th>\n",
       "      <td>2007-06-06</td>\n",
       "      <td>0.0500</td>\n",
       "      <td>0.5</td>\n",
       "    </tr>\n",
       "    <tr>\n",
       "      <th>8</th>\n",
       "      <td>2008-05-14</td>\n",
       "      <td>0.0500</td>\n",
       "      <td>0.5</td>\n",
       "    </tr>\n",
       "    <tr>\n",
       "      <th>7</th>\n",
       "      <td>2009-05-14</td>\n",
       "      <td>0.0200</td>\n",
       "      <td>0.0</td>\n",
       "    </tr>\n",
       "    <tr>\n",
       "      <th>6</th>\n",
       "      <td>2010-06-01</td>\n",
       "      <td>0.0200</td>\n",
       "      <td>0.0</td>\n",
       "    </tr>\n",
       "    <tr>\n",
       "      <th>5</th>\n",
       "      <td>2011-07-08</td>\n",
       "      <td>0.0250</td>\n",
       "      <td>0.0</td>\n",
       "    </tr>\n",
       "    <tr>\n",
       "      <th>4</th>\n",
       "      <td>2012-07-05</td>\n",
       "      <td>0.0150</td>\n",
       "      <td>0.0</td>\n",
       "    </tr>\n",
       "    <tr>\n",
       "      <th>3</th>\n",
       "      <td>2013-07-12</td>\n",
       "      <td>0.0550</td>\n",
       "      <td>0.0</td>\n",
       "    </tr>\n",
       "    <tr>\n",
       "      <th>2</th>\n",
       "      <td>2014-07-16</td>\n",
       "      <td>0.0280</td>\n",
       "      <td>0.0</td>\n",
       "    </tr>\n",
       "    <tr>\n",
       "      <th>1</th>\n",
       "      <td>2015-07-14</td>\n",
       "      <td>0.0155</td>\n",
       "      <td>0.0</td>\n",
       "    </tr>\n",
       "    <tr>\n",
       "      <th>0</th>\n",
       "      <td>2016-07-20</td>\n",
       "      <td>0.0090</td>\n",
       "      <td>0.0</td>\n",
       "    </tr>\n",
       "  </tbody>\n",
       "</table>\n",
       "</div>"
      ],
      "text/plain": [
       "         Date      Fh   Ps\n",
       "14 2002-06-06  0.1500  0.0\n",
       "13 2003-06-05  0.2000  0.0\n",
       "12 2004-06-10  0.2500  0.2\n",
       "11 2005-06-22  0.2000  0.0\n",
       "10 2006-06-26  0.1000  0.0\n",
       "9  2007-06-06  0.0500  0.5\n",
       "8  2008-05-14  0.0500  0.5\n",
       "7  2009-05-14  0.0200  0.0\n",
       "6  2010-06-01  0.0200  0.0\n",
       "5  2011-07-08  0.0250  0.0\n",
       "4  2012-07-05  0.0150  0.0\n",
       "3  2013-07-12  0.0550  0.0\n",
       "2  2014-07-16  0.0280  0.0\n",
       "1  2015-07-14  0.0155  0.0\n",
       "0  2016-07-20  0.0090  0.0"
      ]
     },
     "execution_count": 75,
     "metadata": {},
     "output_type": "execute_result"
    }
   ],
   "source": [
    "import re\n",
    "from dateutil import parser as date_parser\n",
    "import pandas as pd\n",
    "from contextlib import contextmanager\n",
    "from selenium import webdriver\n",
    "from selenium.webdriver.support.ui import WebDriverWait\n",
    "from selenium.webdriver.support import expected_conditions as EC\n",
    "from selenium.webdriver.common.by import By\n",
    "\n",
    "@contextmanager\n",
    "def open_fast_driver():\n",
    "    firefox_p = webdriver.FirefoxProfile()\n",
    "    firefox_p.set_preference('permissions.default.image', 2)\n",
    "    firefox_p.set_preference('network.http.connection-timeout', 1)\n",
    "    driver = webdriver.Firefox(firefox_profile=firefox_p)\n",
    "    yield driver\n",
    "    driver.quit()\n",
    "    \n",
    "\n",
    "zg_re = re.compile(ur'转增(\\d+)股')\n",
    "sg_re = re.compile(ur'送(\\d+)股')\n",
    "fh_re = re.compile(ur'派息(.+)元')\n",
    "date_re = re.compile(ur'(\\d{4}-\\d{2}-\\d{2})')\n",
    "\n",
    "\n",
    "base_url = 'http://q.stock.sohu.com/cn/{}/fhsp.shtml'\n",
    "code = '600589'\n",
    "url = base_url.format(code)\n",
    "table_xpath = '/html/body/div[4]/div[2]/div[2]/div[2]/div/div[2]/table'\n",
    "table = None\n",
    "with open_fast_driver() as driver:\n",
    "    driver.get(url)\n",
    "    d_table = WebDriverWait(driver, 30).until(EC.presence_of_element_located((By.XPATH,table_xpath)))\n",
    "    table = d_table.text\n",
    "\n",
    "if table:\n",
    "    line_iter = iter(table.split('\\n'))\n",
    "    records = []\n",
    "    while True:\n",
    "        record = dict()\n",
    "        date_m = None\n",
    "        try:\n",
    "            line = line_iter.next()\n",
    "            tokens = line.strip().split()\n",
    "            if len(tokens) == 1:\n",
    "                continue\n",
    "            if tokens[0] != u'除权除息日':\n",
    "                continue\n",
    "            if len(tokens) == 2:\n",
    "                next_line = line_iter.next()\n",
    "                date_m = date_re.search(next_line)\n",
    "            if not date_m:\n",
    "                date_m = date_re.search(line)\n",
    "            zg_m = zg_re.search(line)\n",
    "            sg_m = sg_re.search(line)\n",
    "            fh_m = fh_re.search(line)\n",
    "            record['Date'] = date_parser.parse(date_m.group(1))\n",
    "            if zg_m:\n",
    "                record['Zg'] = float(zg_m.group(1))/10.\n",
    "            if sg_m:\n",
    "                record['Sg'] = float(sg_m.group(1))/10.\n",
    "            if fh_m:\n",
    "                record['Fh'] = float(fh_m.group(1))/10.\n",
    "            records.append(record)\n",
    "        except StopIteration:\n",
    "            break\n",
    "    fhps_df = pd.DataFrame(records)\n",
    "    for field in ['Fh', 'Zg', 'Sg']:\n",
    "        if field not in fhps_df:\n",
    "            fhps_df.loc[:, field] = 0.0\n",
    "    fhps_df.loc[:, ['Fh', 'Zg', 'Sg']] = fhps_df.loc[:, ['Fh', 'Zg', 'Sg']].fillna(0.0)\n",
    "    fhps_df.loc[:, 'Ps'] = fhps_df['Zg']+fhps_df['Sg']\n",
    "    fhps_df = fhps_df.sort_values('Date')\n",
    "\n",
    "fhps_df[['Date', 'Fh', 'Ps']]"
   ]
  },
  {
   "cell_type": "markdown",
   "metadata": {},
   "source": [
    "# Try use non-GUI webkit to speed up - phantomJS"
   ]
  },
  {
   "cell_type": "code",
   "execution_count": 185,
   "metadata": {
    "collapsed": false
   },
   "outputs": [
    {
     "data": {
      "text/html": [
       "<div>\n",
       "<table border=\"1\" class=\"dataframe\">\n",
       "  <thead>\n",
       "    <tr style=\"text-align: right;\">\n",
       "      <th></th>\n",
       "      <th>Date</th>\n",
       "      <th>Fh</th>\n",
       "      <th>Ps</th>\n",
       "    </tr>\n",
       "  </thead>\n",
       "  <tbody>\n",
       "    <tr>\n",
       "      <th>14</th>\n",
       "      <td>2002-06-06</td>\n",
       "      <td>0.1500</td>\n",
       "      <td>0.0</td>\n",
       "    </tr>\n",
       "    <tr>\n",
       "      <th>13</th>\n",
       "      <td>2003-06-05</td>\n",
       "      <td>0.2000</td>\n",
       "      <td>0.0</td>\n",
       "    </tr>\n",
       "    <tr>\n",
       "      <th>12</th>\n",
       "      <td>2004-06-10</td>\n",
       "      <td>0.2500</td>\n",
       "      <td>0.2</td>\n",
       "    </tr>\n",
       "    <tr>\n",
       "      <th>11</th>\n",
       "      <td>2005-06-22</td>\n",
       "      <td>0.2000</td>\n",
       "      <td>0.0</td>\n",
       "    </tr>\n",
       "    <tr>\n",
       "      <th>10</th>\n",
       "      <td>2006-06-26</td>\n",
       "      <td>0.1000</td>\n",
       "      <td>0.0</td>\n",
       "    </tr>\n",
       "    <tr>\n",
       "      <th>9</th>\n",
       "      <td>2007-06-06</td>\n",
       "      <td>0.0500</td>\n",
       "      <td>0.5</td>\n",
       "    </tr>\n",
       "    <tr>\n",
       "      <th>8</th>\n",
       "      <td>2008-05-14</td>\n",
       "      <td>0.0500</td>\n",
       "      <td>0.5</td>\n",
       "    </tr>\n",
       "    <tr>\n",
       "      <th>7</th>\n",
       "      <td>2009-05-14</td>\n",
       "      <td>0.0200</td>\n",
       "      <td>0.0</td>\n",
       "    </tr>\n",
       "    <tr>\n",
       "      <th>6</th>\n",
       "      <td>2010-06-01</td>\n",
       "      <td>0.0200</td>\n",
       "      <td>0.0</td>\n",
       "    </tr>\n",
       "    <tr>\n",
       "      <th>5</th>\n",
       "      <td>2011-07-08</td>\n",
       "      <td>0.0250</td>\n",
       "      <td>0.0</td>\n",
       "    </tr>\n",
       "    <tr>\n",
       "      <th>4</th>\n",
       "      <td>2012-07-05</td>\n",
       "      <td>0.0150</td>\n",
       "      <td>0.0</td>\n",
       "    </tr>\n",
       "    <tr>\n",
       "      <th>3</th>\n",
       "      <td>2013-07-12</td>\n",
       "      <td>0.0550</td>\n",
       "      <td>0.0</td>\n",
       "    </tr>\n",
       "    <tr>\n",
       "      <th>2</th>\n",
       "      <td>2014-07-16</td>\n",
       "      <td>0.0280</td>\n",
       "      <td>0.0</td>\n",
       "    </tr>\n",
       "    <tr>\n",
       "      <th>1</th>\n",
       "      <td>2015-07-14</td>\n",
       "      <td>0.0155</td>\n",
       "      <td>0.0</td>\n",
       "    </tr>\n",
       "    <tr>\n",
       "      <th>0</th>\n",
       "      <td>2016-07-20</td>\n",
       "      <td>0.0090</td>\n",
       "      <td>0.0</td>\n",
       "    </tr>\n",
       "  </tbody>\n",
       "</table>\n",
       "</div>"
      ],
      "text/plain": [
       "         Date      Fh   Ps\n",
       "14 2002-06-06  0.1500  0.0\n",
       "13 2003-06-05  0.2000  0.0\n",
       "12 2004-06-10  0.2500  0.2\n",
       "11 2005-06-22  0.2000  0.0\n",
       "10 2006-06-26  0.1000  0.0\n",
       "9  2007-06-06  0.0500  0.5\n",
       "8  2008-05-14  0.0500  0.5\n",
       "7  2009-05-14  0.0200  0.0\n",
       "6  2010-06-01  0.0200  0.0\n",
       "5  2011-07-08  0.0250  0.0\n",
       "4  2012-07-05  0.0150  0.0\n",
       "3  2013-07-12  0.0550  0.0\n",
       "2  2014-07-16  0.0280  0.0\n",
       "1  2015-07-14  0.0155  0.0\n",
       "0  2016-07-20  0.0090  0.0"
      ]
     },
     "execution_count": 185,
     "metadata": {},
     "output_type": "execute_result"
    }
   ],
   "source": [
    "from contextlib import contextmanager\n",
    "from selenium import webdriver\n",
    "from selenium.webdriver.support.ui import WebDriverWait\n",
    "from selenium.webdriver.support import expected_conditions as EC\n",
    "from selenium.webdriver.common.by import By\n",
    "import re\n",
    "from dateutil import parser as date_parser\n",
    "import pandas as pd\n",
    "\n",
    "@contextmanager\n",
    "def open_phantomJS_driver():\n",
    "    \n",
    "    capabilities = webdriver.DesiredCapabilities.PHANTOMJS.copy()\n",
    "    capabilities['phantomjs.page.settings.loadImages'] = False\n",
    "    capabilities['phantomjs.page.settings.webSecurityEnabled'] = False\n",
    "    capabilities['phantomjs.page.settings.javascriptCanOpenWindows'] = False\n",
    "    capabilities['phantomjs.page.settings.javascriptCanCloseWindows'] = False\n",
    "    capabilities['phantomjs.page.settings.userAgent'] = 'Mozilla/5.0 (Macintosh; Intel Mac OS X) AppleWebKit/538.1 (KHTML, like Gecko) Chrome/55.0.2883.95 Safari/538.1'\n",
    "\n",
    "    driver = webdriver.Remote(\"http://localhost:4444/wd/hub\", capabilities)\n",
    "    yield driver\n",
    "    driver.quit()\n",
    "\n",
    "zg_re = re.compile(ur'转增(\\d+)股')\n",
    "sg_re = re.compile(ur'送(\\d+)股')\n",
    "fh_re = re.compile(ur'派息(.+)元')\n",
    "date_re = re.compile(ur'(\\d{4}-\\d{2}-\\d{2})')\n",
    "\n",
    "\n",
    "base_url = 'http://q.stock.sohu.com/cn/{}/fhsp.shtml'\n",
    "code = '600589'\n",
    "url = base_url.format(code)\n",
    "table_xpath = '/html/body/div[4]/div[2]/div[2]/div[2]/div/div[2]/table'\n",
    "table = None\n",
    "\n",
    "with open_phantomJS_driver() as driver:\n",
    "    try:\n",
    "        driver.get(url)\n",
    "        d_table = WebDriverWait(driver, 30).until(EC.presence_of_element_located((By.XPATH,table_xpath)))\n",
    "        table = d_table.text\n",
    "    except Exception as e:\n",
    "        print e.msg\n",
    "        for line in e.stacktrace:\n",
    "            print line\n",
    "\n",
    "if table:\n",
    "    line_iter = iter(table.split('\\n'))\n",
    "    records = []\n",
    "    while True:\n",
    "        record = dict()\n",
    "        date_m = None\n",
    "        try:\n",
    "            line = line_iter.next()\n",
    "            tokens = line.strip().split()\n",
    "            if len(tokens) == 1:\n",
    "                continue\n",
    "            if tokens[0] != u'除权除息日':\n",
    "                continue\n",
    "            if len(tokens) == 2:\n",
    "                next_line = line_iter.next()\n",
    "                date_m = date_re.search(next_line)\n",
    "            if not date_m:\n",
    "                date_m = date_re.search(line)\n",
    "            zg_m = zg_re.search(line)\n",
    "            sg_m = sg_re.search(line)\n",
    "            fh_m = fh_re.search(line)\n",
    "            record['Date'] = date_parser.parse(date_m.group(1))\n",
    "            if zg_m:\n",
    "                record['Zg'] = float(zg_m.group(1))/10.\n",
    "            if sg_m:\n",
    "                record['Sg'] = float(sg_m.group(1))/10.\n",
    "            if fh_m:\n",
    "                record['Fh'] = float(fh_m.group(1))/10.\n",
    "            records.append(record)\n",
    "        except StopIteration:\n",
    "            break\n",
    "    if records:\n",
    "        fhps_df = pd.DataFrame(records)\n",
    "        for field in ['Fh', 'Zg', 'Sg']:\n",
    "            if field not in fhps_df:\n",
    "                fhps_df.loc[:, field] = 0.0\n",
    "        fhps_df.loc[:, ['Fh', 'Zg', 'Sg']] = fhps_df.loc[:, ['Fh', 'Zg', 'Sg']].fillna(0.0)\n",
    "        fhps_df.loc[:, 'Ps'] = fhps_df['Zg']+fhps_df['Sg']\n",
    "        fhps_df = fhps_df.sort_values('Date')\n",
    "fhps_df[['Date', 'Fh', 'Ps']]"
   ]
  },
  {
   "cell_type": "markdown",
   "metadata": {},
   "source": [
    "# Test of using Sina API"
   ]
  },
  {
   "cell_type": "code",
   "execution_count": 453,
   "metadata": {
    "collapsed": false
   },
   "outputs": [
    {
     "name": "stdout",
     "output_type": "stream",
     "text": [
      "\n",
      "\t\t\t\t\t<option value=\"2017\">2017</option>\n",
      "\t\t\t\t\t<option value=\"2016\">2016</option>\n",
      "\t\t\t\t\t<option value=\"2015\">2015</option>\n",
      "\t\t\t\t\t<option value=\"2014\">2014</option>\n",
      "\t\t\t\t\t<option value=\"2013\">2013</option>\n",
      "\t\t\t\t\t<option value=\"2012\">2012</option>\n",
      "\t\t\t\t\t<option value=\"2011\" selected=\"\">2011</option>\n",
      "\t\t\t\t\t<option value=\"2010\">2010</option>\n",
      "\t\t\t\t\t<option value=\"2009\">2009</option>\n",
      "\t\t\t\t\t<option value=\"2008\">2008</option>\n",
      "\t\t\t\t\t<option value=\"2007\">2007</option>\n",
      "\t\t\t\t\t<option value=\"2006\">2006</option>\n",
      "\t\t\t\t\t<option value=\"2005\">2005</option>\n",
      "\t\t\t\t\t<option value=\"2004\">2004</option>\n",
      "\t\t\t\t\t<option value=\"2003\">2003</option>\n",
      "\t\t\t\t\t<option value=\"2002\">2002</option>\n",
      "\t\t\t\t\t<option value=\"2001\">2001</option>\n",
      "\t\t\t\n"
     ]
    }
   ],
   "source": [
    "from contextlib import contextmanager\n",
    "from selenium import webdriver\n",
    "from selenium.webdriver.support.ui import WebDriverWait\n",
    "from selenium.webdriver.support import expected_conditions as EC\n",
    "from selenium.webdriver.common.by import By\n",
    "import re\n",
    "from dateutil import parser as date_parsere\n",
    "from pandas.io import html as pd_html\n",
    "\n",
    "@contextmanager\n",
    "def open_phantomJS_driver():\n",
    "    \n",
    "    capabilities = webdriver.DesiredCapabilities.PHANTOMJS.copy()\n",
    "    capabilities['phantomjs.page.settings.loadImages'] = False\n",
    "    capabilities['phantomjs.page.settings.webSecurityEnabled'] = False\n",
    "    capabilities['phantomjs.page.settings.javascriptCanOpenWindows'] = False\n",
    "    capabilities['phantomjs.page.settings.javascriptCanCloseWindows'] = False\n",
    "    capabilities['phantomjs.page.settings.userAgent'] = 'Mozilla/5.0 (Macintosh; Intel Mac OS X) AppleWebKit/538.1 (KHTML, like Gecko) Chrome/55.0.2883.95 Safari/538.1'\n",
    "\n",
    "    driver = webdriver.Remote(\"http://localhost:4444/wd/hub\", capabilities)\n",
    "    yield driver\n",
    "    driver.quit()\n",
    "\n",
    "base_url = 'http://vip.stock.finance.sina.com.cn/corp/go.php/vMS_MarketHistory/stockid/{}.phtml?year={}&jidu={}'\n",
    "code = '600033'\n",
    "year = '2011'\n",
    "jidu = '1'\n",
    "\n",
    "url = base_url.format(code, year, jidu)\n",
    "table_xpath = '//*[@id=\"FundHoldSharesTable\"]'\n",
    "year_list_xpath = '//*[@id=\"con02-4\"]/table/tbody/tr/td/form/select[1]'\n",
    "df = None\n",
    "\n",
    "with open_phantomJS_driver() as driver:\n",
    "    try:\n",
    "        driver.get(url)\n",
    "        \n",
    "        d_table = WebDriverWait(driver, 30).until(EC.presence_of_element_located((By.XPATH, table_xpath)))\n",
    "        df = pd_html.read_html(d_table.get_attribute('outerHTML'), header=1)\n",
    "    except Exception as e:\n",
    "        print e\n",
    "\n",
    "if df:\n",
    "    df[0].columns = ['Date', 'Open', 'High', 'Close', 'Low', 'Volume', 'Amount']\n",
    "    df[0].Date = pd.to_datetime(df[0].Date)\n",
    "    df[0]['Volume'] = df[0]['Volume'].astype(int)\n",
    "    df = df[0].set_index('Date').sort_index()\n",
    "\n",
    "df.head()\n",
    "\n",
    "#         year_list_options = WebDriverWait(driver, 30).until(EC.presence_of_element_located((By.XPATH, year_list_xpath)))\n",
    "#         year_list_html = year_list_options.get_attribute('innerHTML')\n",
    "#     except Exception as e:\n",
    "#         print e\n",
    "        \n",
    "# print year_list_html\n",
    "# soup = BeautifulSoup(year_list_html)\n",
    "\n",
    "# for year in soup.find_all(name = 'option'):\n",
    "#     print year.text"
   ]
  },
  {
   "cell_type": "markdown",
   "metadata": {},
   "source": [
    "## Another Better Sina API ？\n",
    "Not really, because missing Amount data, but much much faster!"
   ]
  },
  {
   "cell_type": "code",
   "execution_count": 488,
   "metadata": {
    "collapsed": false
   },
   "outputs": [
    {
     "data": {
      "text/html": [
       "<div>\n",
       "<table border=\"1\" class=\"dataframe\">\n",
       "  <thead>\n",
       "    <tr style=\"text-align: right;\">\n",
       "      <th></th>\n",
       "      <th>Close</th>\n",
       "      <th>Date</th>\n",
       "      <th>High</th>\n",
       "      <th>Low</th>\n",
       "      <th>Open</th>\n",
       "      <th>Volume</th>\n",
       "      <th>Amount</th>\n",
       "    </tr>\n",
       "  </thead>\n",
       "  <tbody>\n",
       "    <tr>\n",
       "      <th>0</th>\n",
       "      <td>5.39</td>\n",
       "      <td>2014-09-01</td>\n",
       "      <td>5.43</td>\n",
       "      <td>5.28</td>\n",
       "      <td>5.32</td>\n",
       "      <td>72819</td>\n",
       "      <td>NaN</td>\n",
       "    </tr>\n",
       "    <tr>\n",
       "      <th>1</th>\n",
       "      <td>5.49</td>\n",
       "      <td>2014-09-02</td>\n",
       "      <td>5.52</td>\n",
       "      <td>5.38</td>\n",
       "      <td>5.40</td>\n",
       "      <td>111495</td>\n",
       "      <td>NaN</td>\n",
       "    </tr>\n",
       "    <tr>\n",
       "      <th>2</th>\n",
       "      <td>5.59</td>\n",
       "      <td>2014-09-03</td>\n",
       "      <td>5.65</td>\n",
       "      <td>5.45</td>\n",
       "      <td>5.51</td>\n",
       "      <td>170968</td>\n",
       "      <td>NaN</td>\n",
       "    </tr>\n",
       "    <tr>\n",
       "      <th>3</th>\n",
       "      <td>5.64</td>\n",
       "      <td>2014-09-04</td>\n",
       "      <td>5.68</td>\n",
       "      <td>5.53</td>\n",
       "      <td>5.60</td>\n",
       "      <td>133587</td>\n",
       "      <td>NaN</td>\n",
       "    </tr>\n",
       "    <tr>\n",
       "      <th>4</th>\n",
       "      <td>5.61</td>\n",
       "      <td>2014-09-05</td>\n",
       "      <td>5.67</td>\n",
       "      <td>5.55</td>\n",
       "      <td>5.67</td>\n",
       "      <td>117608</td>\n",
       "      <td>NaN</td>\n",
       "    </tr>\n",
       "    <tr>\n",
       "      <th>5</th>\n",
       "      <td>5.73</td>\n",
       "      <td>2014-09-09</td>\n",
       "      <td>5.75</td>\n",
       "      <td>5.56</td>\n",
       "      <td>5.60</td>\n",
       "      <td>131686</td>\n",
       "      <td>NaN</td>\n",
       "    </tr>\n",
       "    <tr>\n",
       "      <th>6</th>\n",
       "      <td>5.72</td>\n",
       "      <td>2014-09-10</td>\n",
       "      <td>5.84</td>\n",
       "      <td>5.66</td>\n",
       "      <td>5.68</td>\n",
       "      <td>115630</td>\n",
       "      <td>NaN</td>\n",
       "    </tr>\n",
       "    <tr>\n",
       "      <th>7</th>\n",
       "      <td>5.66</td>\n",
       "      <td>2014-09-11</td>\n",
       "      <td>5.77</td>\n",
       "      <td>5.60</td>\n",
       "      <td>5.72</td>\n",
       "      <td>135807</td>\n",
       "      <td>NaN</td>\n",
       "    </tr>\n",
       "    <tr>\n",
       "      <th>8</th>\n",
       "      <td>5.81</td>\n",
       "      <td>2014-09-12</td>\n",
       "      <td>5.82</td>\n",
       "      <td>5.60</td>\n",
       "      <td>5.65</td>\n",
       "      <td>131828</td>\n",
       "      <td>NaN</td>\n",
       "    </tr>\n",
       "    <tr>\n",
       "      <th>9</th>\n",
       "      <td>5.83</td>\n",
       "      <td>2014-09-15</td>\n",
       "      <td>5.93</td>\n",
       "      <td>5.78</td>\n",
       "      <td>5.80</td>\n",
       "      <td>162283</td>\n",
       "      <td>NaN</td>\n",
       "    </tr>\n",
       "    <tr>\n",
       "      <th>10</th>\n",
       "      <td>5.62</td>\n",
       "      <td>2014-09-16</td>\n",
       "      <td>5.87</td>\n",
       "      <td>5.58</td>\n",
       "      <td>5.84</td>\n",
       "      <td>162163</td>\n",
       "      <td>NaN</td>\n",
       "    </tr>\n",
       "    <tr>\n",
       "      <th>11</th>\n",
       "      <td>5.69</td>\n",
       "      <td>2014-09-17</td>\n",
       "      <td>5.70</td>\n",
       "      <td>5.56</td>\n",
       "      <td>5.61</td>\n",
       "      <td>100389</td>\n",
       "      <td>NaN</td>\n",
       "    </tr>\n",
       "    <tr>\n",
       "      <th>12</th>\n",
       "      <td>5.91</td>\n",
       "      <td>2014-09-18</td>\n",
       "      <td>5.95</td>\n",
       "      <td>5.65</td>\n",
       "      <td>5.68</td>\n",
       "      <td>158472</td>\n",
       "      <td>NaN</td>\n",
       "    </tr>\n",
       "    <tr>\n",
       "      <th>13</th>\n",
       "      <td>5.92</td>\n",
       "      <td>2014-09-19</td>\n",
       "      <td>5.96</td>\n",
       "      <td>5.80</td>\n",
       "      <td>5.88</td>\n",
       "      <td>121377</td>\n",
       "      <td>NaN</td>\n",
       "    </tr>\n",
       "    <tr>\n",
       "      <th>14</th>\n",
       "      <td>5.97</td>\n",
       "      <td>2014-09-22</td>\n",
       "      <td>6.14</td>\n",
       "      <td>5.89</td>\n",
       "      <td>5.89</td>\n",
       "      <td>195080</td>\n",
       "      <td>NaN</td>\n",
       "    </tr>\n",
       "    <tr>\n",
       "      <th>15</th>\n",
       "      <td>6.19</td>\n",
       "      <td>2014-09-23</td>\n",
       "      <td>6.24</td>\n",
       "      <td>5.98</td>\n",
       "      <td>5.98</td>\n",
       "      <td>223482</td>\n",
       "      <td>NaN</td>\n",
       "    </tr>\n",
       "    <tr>\n",
       "      <th>16</th>\n",
       "      <td>6.21</td>\n",
       "      <td>2014-09-24</td>\n",
       "      <td>6.30</td>\n",
       "      <td>6.09</td>\n",
       "      <td>6.22</td>\n",
       "      <td>186590</td>\n",
       "      <td>NaN</td>\n",
       "    </tr>\n",
       "    <tr>\n",
       "      <th>17</th>\n",
       "      <td>6.34</td>\n",
       "      <td>2014-09-25</td>\n",
       "      <td>6.35</td>\n",
       "      <td>6.12</td>\n",
       "      <td>6.23</td>\n",
       "      <td>188548</td>\n",
       "      <td>NaN</td>\n",
       "    </tr>\n",
       "    <tr>\n",
       "      <th>18</th>\n",
       "      <td>6.37</td>\n",
       "      <td>2014-09-26</td>\n",
       "      <td>6.39</td>\n",
       "      <td>6.24</td>\n",
       "      <td>6.33</td>\n",
       "      <td>139617</td>\n",
       "      <td>NaN</td>\n",
       "    </tr>\n",
       "    <tr>\n",
       "      <th>19</th>\n",
       "      <td>6.51</td>\n",
       "      <td>2014-09-29</td>\n",
       "      <td>6.57</td>\n",
       "      <td>6.32</td>\n",
       "      <td>6.37</td>\n",
       "      <td>160892</td>\n",
       "      <td>NaN</td>\n",
       "    </tr>\n",
       "    <tr>\n",
       "      <th>20</th>\n",
       "      <td>6.63</td>\n",
       "      <td>2014-09-30</td>\n",
       "      <td>6.65</td>\n",
       "      <td>6.43</td>\n",
       "      <td>6.50</td>\n",
       "      <td>147946</td>\n",
       "      <td>NaN</td>\n",
       "    </tr>\n",
       "    <tr>\n",
       "      <th>21</th>\n",
       "      <td>6.89</td>\n",
       "      <td>2014-10-08</td>\n",
       "      <td>6.94</td>\n",
       "      <td>6.56</td>\n",
       "      <td>6.60</td>\n",
       "      <td>166753</td>\n",
       "      <td>NaN</td>\n",
       "    </tr>\n",
       "    <tr>\n",
       "      <th>22</th>\n",
       "      <td>6.79</td>\n",
       "      <td>2014-10-09</td>\n",
       "      <td>6.95</td>\n",
       "      <td>6.66</td>\n",
       "      <td>6.88</td>\n",
       "      <td>199091</td>\n",
       "      <td>NaN</td>\n",
       "    </tr>\n",
       "    <tr>\n",
       "      <th>23</th>\n",
       "      <td>6.59</td>\n",
       "      <td>2014-10-10</td>\n",
       "      <td>6.79</td>\n",
       "      <td>6.50</td>\n",
       "      <td>6.79</td>\n",
       "      <td>220233</td>\n",
       "      <td>NaN</td>\n",
       "    </tr>\n",
       "    <tr>\n",
       "      <th>24</th>\n",
       "      <td>6.50</td>\n",
       "      <td>2014-10-13</td>\n",
       "      <td>6.54</td>\n",
       "      <td>6.30</td>\n",
       "      <td>6.54</td>\n",
       "      <td>218932</td>\n",
       "      <td>NaN</td>\n",
       "    </tr>\n",
       "    <tr>\n",
       "      <th>25</th>\n",
       "      <td>6.47</td>\n",
       "      <td>2014-10-14</td>\n",
       "      <td>6.53</td>\n",
       "      <td>6.38</td>\n",
       "      <td>6.48</td>\n",
       "      <td>107047</td>\n",
       "      <td>NaN</td>\n",
       "    </tr>\n",
       "    <tr>\n",
       "      <th>26</th>\n",
       "      <td>6.54</td>\n",
       "      <td>2014-10-15</td>\n",
       "      <td>6.56</td>\n",
       "      <td>6.35</td>\n",
       "      <td>6.49</td>\n",
       "      <td>111015</td>\n",
       "      <td>NaN</td>\n",
       "    </tr>\n",
       "    <tr>\n",
       "      <th>27</th>\n",
       "      <td>6.37</td>\n",
       "      <td>2014-10-16</td>\n",
       "      <td>6.53</td>\n",
       "      <td>6.34</td>\n",
       "      <td>6.48</td>\n",
       "      <td>136801</td>\n",
       "      <td>NaN</td>\n",
       "    </tr>\n",
       "    <tr>\n",
       "      <th>28</th>\n",
       "      <td>6.22</td>\n",
       "      <td>2014-10-17</td>\n",
       "      <td>6.38</td>\n",
       "      <td>6.15</td>\n",
       "      <td>6.33</td>\n",
       "      <td>123277</td>\n",
       "      <td>NaN</td>\n",
       "    </tr>\n",
       "    <tr>\n",
       "      <th>29</th>\n",
       "      <td>6.30</td>\n",
       "      <td>2014-10-20</td>\n",
       "      <td>6.39</td>\n",
       "      <td>6.22</td>\n",
       "      <td>6.22</td>\n",
       "      <td>96946</td>\n",
       "      <td>NaN</td>\n",
       "    </tr>\n",
       "    <tr>\n",
       "      <th>...</th>\n",
       "      <td>...</td>\n",
       "      <td>...</td>\n",
       "      <td>...</td>\n",
       "      <td>...</td>\n",
       "      <td>...</td>\n",
       "      <td>...</td>\n",
       "      <td>...</td>\n",
       "    </tr>\n",
       "    <tr>\n",
       "      <th>52</th>\n",
       "      <td>6.17</td>\n",
       "      <td>2014-11-20</td>\n",
       "      <td>6.22</td>\n",
       "      <td>6.11</td>\n",
       "      <td>6.17</td>\n",
       "      <td>52526</td>\n",
       "      <td>NaN</td>\n",
       "    </tr>\n",
       "    <tr>\n",
       "      <th>53</th>\n",
       "      <td>6.18</td>\n",
       "      <td>2014-11-21</td>\n",
       "      <td>6.22</td>\n",
       "      <td>6.15</td>\n",
       "      <td>6.18</td>\n",
       "      <td>55967</td>\n",
       "      <td>NaN</td>\n",
       "    </tr>\n",
       "    <tr>\n",
       "      <th>54</th>\n",
       "      <td>6.24</td>\n",
       "      <td>2014-11-24</td>\n",
       "      <td>6.26</td>\n",
       "      <td>6.15</td>\n",
       "      <td>6.22</td>\n",
       "      <td>131003</td>\n",
       "      <td>NaN</td>\n",
       "    </tr>\n",
       "    <tr>\n",
       "      <th>55</th>\n",
       "      <td>6.23</td>\n",
       "      <td>2014-11-25</td>\n",
       "      <td>6.25</td>\n",
       "      <td>6.18</td>\n",
       "      <td>6.20</td>\n",
       "      <td>140437</td>\n",
       "      <td>NaN</td>\n",
       "    </tr>\n",
       "    <tr>\n",
       "      <th>56</th>\n",
       "      <td>6.33</td>\n",
       "      <td>2014-11-26</td>\n",
       "      <td>6.37</td>\n",
       "      <td>6.24</td>\n",
       "      <td>6.25</td>\n",
       "      <td>152397</td>\n",
       "      <td>NaN</td>\n",
       "    </tr>\n",
       "    <tr>\n",
       "      <th>57</th>\n",
       "      <td>6.37</td>\n",
       "      <td>2014-11-27</td>\n",
       "      <td>6.43</td>\n",
       "      <td>6.30</td>\n",
       "      <td>6.33</td>\n",
       "      <td>139585</td>\n",
       "      <td>NaN</td>\n",
       "    </tr>\n",
       "    <tr>\n",
       "      <th>58</th>\n",
       "      <td>6.27</td>\n",
       "      <td>2014-11-28</td>\n",
       "      <td>6.43</td>\n",
       "      <td>6.23</td>\n",
       "      <td>6.37</td>\n",
       "      <td>142124</td>\n",
       "      <td>NaN</td>\n",
       "    </tr>\n",
       "    <tr>\n",
       "      <th>59</th>\n",
       "      <td>6.15</td>\n",
       "      <td>2014-12-01</td>\n",
       "      <td>6.31</td>\n",
       "      <td>6.10</td>\n",
       "      <td>6.27</td>\n",
       "      <td>153232</td>\n",
       "      <td>NaN</td>\n",
       "    </tr>\n",
       "    <tr>\n",
       "      <th>60</th>\n",
       "      <td>6.24</td>\n",
       "      <td>2014-12-02</td>\n",
       "      <td>6.31</td>\n",
       "      <td>6.15</td>\n",
       "      <td>6.15</td>\n",
       "      <td>136500</td>\n",
       "      <td>NaN</td>\n",
       "    </tr>\n",
       "    <tr>\n",
       "      <th>61</th>\n",
       "      <td>6.34</td>\n",
       "      <td>2014-12-03</td>\n",
       "      <td>6.35</td>\n",
       "      <td>6.20</td>\n",
       "      <td>6.22</td>\n",
       "      <td>145541</td>\n",
       "      <td>NaN</td>\n",
       "    </tr>\n",
       "    <tr>\n",
       "      <th>62</th>\n",
       "      <td>6.37</td>\n",
       "      <td>2014-12-04</td>\n",
       "      <td>6.41</td>\n",
       "      <td>6.32</td>\n",
       "      <td>6.34</td>\n",
       "      <td>166107</td>\n",
       "      <td>NaN</td>\n",
       "    </tr>\n",
       "    <tr>\n",
       "      <th>63</th>\n",
       "      <td>6.19</td>\n",
       "      <td>2014-12-05</td>\n",
       "      <td>6.38</td>\n",
       "      <td>6.02</td>\n",
       "      <td>6.36</td>\n",
       "      <td>222313</td>\n",
       "      <td>NaN</td>\n",
       "    </tr>\n",
       "    <tr>\n",
       "      <th>64</th>\n",
       "      <td>6.14</td>\n",
       "      <td>2014-12-08</td>\n",
       "      <td>6.19</td>\n",
       "      <td>6.07</td>\n",
       "      <td>6.16</td>\n",
       "      <td>142702</td>\n",
       "      <td>NaN</td>\n",
       "    </tr>\n",
       "    <tr>\n",
       "      <th>65</th>\n",
       "      <td>5.92</td>\n",
       "      <td>2014-12-09</td>\n",
       "      <td>6.10</td>\n",
       "      <td>5.90</td>\n",
       "      <td>6.10</td>\n",
       "      <td>173291</td>\n",
       "      <td>NaN</td>\n",
       "    </tr>\n",
       "    <tr>\n",
       "      <th>66</th>\n",
       "      <td>6.04</td>\n",
       "      <td>2014-12-10</td>\n",
       "      <td>6.05</td>\n",
       "      <td>5.91</td>\n",
       "      <td>5.91</td>\n",
       "      <td>93372</td>\n",
       "      <td>NaN</td>\n",
       "    </tr>\n",
       "    <tr>\n",
       "      <th>67</th>\n",
       "      <td>6.13</td>\n",
       "      <td>2014-12-11</td>\n",
       "      <td>6.15</td>\n",
       "      <td>5.96</td>\n",
       "      <td>6.02</td>\n",
       "      <td>112979</td>\n",
       "      <td>NaN</td>\n",
       "    </tr>\n",
       "    <tr>\n",
       "      <th>68</th>\n",
       "      <td>6.18</td>\n",
       "      <td>2014-12-12</td>\n",
       "      <td>6.19</td>\n",
       "      <td>6.07</td>\n",
       "      <td>6.14</td>\n",
       "      <td>106786</td>\n",
       "      <td>NaN</td>\n",
       "    </tr>\n",
       "    <tr>\n",
       "      <th>69</th>\n",
       "      <td>6.30</td>\n",
       "      <td>2014-12-15</td>\n",
       "      <td>6.32</td>\n",
       "      <td>6.13</td>\n",
       "      <td>6.19</td>\n",
       "      <td>158810</td>\n",
       "      <td>NaN</td>\n",
       "    </tr>\n",
       "    <tr>\n",
       "      <th>70</th>\n",
       "      <td>6.32</td>\n",
       "      <td>2014-12-16</td>\n",
       "      <td>6.40</td>\n",
       "      <td>6.27</td>\n",
       "      <td>6.32</td>\n",
       "      <td>188535</td>\n",
       "      <td>NaN</td>\n",
       "    </tr>\n",
       "    <tr>\n",
       "      <th>71</th>\n",
       "      <td>6.18</td>\n",
       "      <td>2014-12-17</td>\n",
       "      <td>6.32</td>\n",
       "      <td>6.07</td>\n",
       "      <td>6.30</td>\n",
       "      <td>129435</td>\n",
       "      <td>NaN</td>\n",
       "    </tr>\n",
       "    <tr>\n",
       "      <th>72</th>\n",
       "      <td>6.31</td>\n",
       "      <td>2014-12-18</td>\n",
       "      <td>6.32</td>\n",
       "      <td>6.10</td>\n",
       "      <td>6.14</td>\n",
       "      <td>147091</td>\n",
       "      <td>NaN</td>\n",
       "    </tr>\n",
       "    <tr>\n",
       "      <th>73</th>\n",
       "      <td>6.36</td>\n",
       "      <td>2014-12-19</td>\n",
       "      <td>6.47</td>\n",
       "      <td>6.21</td>\n",
       "      <td>6.40</td>\n",
       "      <td>242692</td>\n",
       "      <td>NaN</td>\n",
       "    </tr>\n",
       "    <tr>\n",
       "      <th>74</th>\n",
       "      <td>5.97</td>\n",
       "      <td>2014-12-22</td>\n",
       "      <td>6.39</td>\n",
       "      <td>5.93</td>\n",
       "      <td>6.36</td>\n",
       "      <td>147492</td>\n",
       "      <td>NaN</td>\n",
       "    </tr>\n",
       "    <tr>\n",
       "      <th>75</th>\n",
       "      <td>5.96</td>\n",
       "      <td>2014-12-23</td>\n",
       "      <td>6.07</td>\n",
       "      <td>5.92</td>\n",
       "      <td>5.97</td>\n",
       "      <td>76076</td>\n",
       "      <td>NaN</td>\n",
       "    </tr>\n",
       "    <tr>\n",
       "      <th>76</th>\n",
       "      <td>6.09</td>\n",
       "      <td>2014-12-24</td>\n",
       "      <td>6.10</td>\n",
       "      <td>5.96</td>\n",
       "      <td>5.97</td>\n",
       "      <td>52758</td>\n",
       "      <td>NaN</td>\n",
       "    </tr>\n",
       "    <tr>\n",
       "      <th>77</th>\n",
       "      <td>6.10</td>\n",
       "      <td>2014-12-25</td>\n",
       "      <td>6.12</td>\n",
       "      <td>6.03</td>\n",
       "      <td>6.09</td>\n",
       "      <td>82731</td>\n",
       "      <td>NaN</td>\n",
       "    </tr>\n",
       "    <tr>\n",
       "      <th>78</th>\n",
       "      <td>6.03</td>\n",
       "      <td>2014-12-26</td>\n",
       "      <td>6.09</td>\n",
       "      <td>6.02</td>\n",
       "      <td>6.08</td>\n",
       "      <td>99147</td>\n",
       "      <td>NaN</td>\n",
       "    </tr>\n",
       "    <tr>\n",
       "      <th>79</th>\n",
       "      <td>5.81</td>\n",
       "      <td>2014-12-29</td>\n",
       "      <td>6.07</td>\n",
       "      <td>5.78</td>\n",
       "      <td>6.03</td>\n",
       "      <td>161867</td>\n",
       "      <td>NaN</td>\n",
       "    </tr>\n",
       "    <tr>\n",
       "      <th>80</th>\n",
       "      <td>5.66</td>\n",
       "      <td>2014-12-30</td>\n",
       "      <td>5.86</td>\n",
       "      <td>5.63</td>\n",
       "      <td>5.83</td>\n",
       "      <td>127802</td>\n",
       "      <td>NaN</td>\n",
       "    </tr>\n",
       "    <tr>\n",
       "      <th>81</th>\n",
       "      <td>5.72</td>\n",
       "      <td>2014-12-31</td>\n",
       "      <td>5.72</td>\n",
       "      <td>5.62</td>\n",
       "      <td>5.66</td>\n",
       "      <td>71966</td>\n",
       "      <td>NaN</td>\n",
       "    </tr>\n",
       "  </tbody>\n",
       "</table>\n",
       "<p>82 rows × 7 columns</p>\n",
       "</div>"
      ],
      "text/plain": [
       "    Close       Date  High   Low  Open  Volume  Amount\n",
       "0    5.39 2014-09-01  5.43  5.28  5.32   72819     NaN\n",
       "1    5.49 2014-09-02  5.52  5.38  5.40  111495     NaN\n",
       "2    5.59 2014-09-03  5.65  5.45  5.51  170968     NaN\n",
       "3    5.64 2014-09-04  5.68  5.53  5.60  133587     NaN\n",
       "4    5.61 2014-09-05  5.67  5.55  5.67  117608     NaN\n",
       "5    5.73 2014-09-09  5.75  5.56  5.60  131686     NaN\n",
       "6    5.72 2014-09-10  5.84  5.66  5.68  115630     NaN\n",
       "7    5.66 2014-09-11  5.77  5.60  5.72  135807     NaN\n",
       "8    5.81 2014-09-12  5.82  5.60  5.65  131828     NaN\n",
       "9    5.83 2014-09-15  5.93  5.78  5.80  162283     NaN\n",
       "10   5.62 2014-09-16  5.87  5.58  5.84  162163     NaN\n",
       "11   5.69 2014-09-17  5.70  5.56  5.61  100389     NaN\n",
       "12   5.91 2014-09-18  5.95  5.65  5.68  158472     NaN\n",
       "13   5.92 2014-09-19  5.96  5.80  5.88  121377     NaN\n",
       "14   5.97 2014-09-22  6.14  5.89  5.89  195080     NaN\n",
       "15   6.19 2014-09-23  6.24  5.98  5.98  223482     NaN\n",
       "16   6.21 2014-09-24  6.30  6.09  6.22  186590     NaN\n",
       "17   6.34 2014-09-25  6.35  6.12  6.23  188548     NaN\n",
       "18   6.37 2014-09-26  6.39  6.24  6.33  139617     NaN\n",
       "19   6.51 2014-09-29  6.57  6.32  6.37  160892     NaN\n",
       "20   6.63 2014-09-30  6.65  6.43  6.50  147946     NaN\n",
       "21   6.89 2014-10-08  6.94  6.56  6.60  166753     NaN\n",
       "22   6.79 2014-10-09  6.95  6.66  6.88  199091     NaN\n",
       "23   6.59 2014-10-10  6.79  6.50  6.79  220233     NaN\n",
       "24   6.50 2014-10-13  6.54  6.30  6.54  218932     NaN\n",
       "25   6.47 2014-10-14  6.53  6.38  6.48  107047     NaN\n",
       "26   6.54 2014-10-15  6.56  6.35  6.49  111015     NaN\n",
       "27   6.37 2014-10-16  6.53  6.34  6.48  136801     NaN\n",
       "28   6.22 2014-10-17  6.38  6.15  6.33  123277     NaN\n",
       "29   6.30 2014-10-20  6.39  6.22  6.22   96946     NaN\n",
       "..    ...        ...   ...   ...   ...     ...     ...\n",
       "52   6.17 2014-11-20  6.22  6.11  6.17   52526     NaN\n",
       "53   6.18 2014-11-21  6.22  6.15  6.18   55967     NaN\n",
       "54   6.24 2014-11-24  6.26  6.15  6.22  131003     NaN\n",
       "55   6.23 2014-11-25  6.25  6.18  6.20  140437     NaN\n",
       "56   6.33 2014-11-26  6.37  6.24  6.25  152397     NaN\n",
       "57   6.37 2014-11-27  6.43  6.30  6.33  139585     NaN\n",
       "58   6.27 2014-11-28  6.43  6.23  6.37  142124     NaN\n",
       "59   6.15 2014-12-01  6.31  6.10  6.27  153232     NaN\n",
       "60   6.24 2014-12-02  6.31  6.15  6.15  136500     NaN\n",
       "61   6.34 2014-12-03  6.35  6.20  6.22  145541     NaN\n",
       "62   6.37 2014-12-04  6.41  6.32  6.34  166107     NaN\n",
       "63   6.19 2014-12-05  6.38  6.02  6.36  222313     NaN\n",
       "64   6.14 2014-12-08  6.19  6.07  6.16  142702     NaN\n",
       "65   5.92 2014-12-09  6.10  5.90  6.10  173291     NaN\n",
       "66   6.04 2014-12-10  6.05  5.91  5.91   93372     NaN\n",
       "67   6.13 2014-12-11  6.15  5.96  6.02  112979     NaN\n",
       "68   6.18 2014-12-12  6.19  6.07  6.14  106786     NaN\n",
       "69   6.30 2014-12-15  6.32  6.13  6.19  158810     NaN\n",
       "70   6.32 2014-12-16  6.40  6.27  6.32  188535     NaN\n",
       "71   6.18 2014-12-17  6.32  6.07  6.30  129435     NaN\n",
       "72   6.31 2014-12-18  6.32  6.10  6.14  147091     NaN\n",
       "73   6.36 2014-12-19  6.47  6.21  6.40  242692     NaN\n",
       "74   5.97 2014-12-22  6.39  5.93  6.36  147492     NaN\n",
       "75   5.96 2014-12-23  6.07  5.92  5.97   76076     NaN\n",
       "76   6.09 2014-12-24  6.10  5.96  5.97   52758     NaN\n",
       "77   6.10 2014-12-25  6.12  6.03  6.09   82731     NaN\n",
       "78   6.03 2014-12-26  6.09  6.02  6.08   99147     NaN\n",
       "79   5.81 2014-12-29  6.07  5.78  6.03  161867     NaN\n",
       "80   5.66 2014-12-30  5.86  5.63  5.83  127802     NaN\n",
       "81   5.72 2014-12-31  5.72  5.62  5.66   71966     NaN\n",
       "\n",
       "[82 rows x 7 columns]"
      ]
     },
     "execution_count": 488,
     "metadata": {},
     "output_type": "execute_result"
    }
   ],
   "source": [
    "import numpy as np\n",
    "\n",
    "hq_baseURL = 'http://biz.finance.sina.com.cn/stock/flash_hq/kline_data.php?symbol={}&begin_date={}&end_date={}'\n",
    "\n",
    "code = 'sh600589'\n",
    "start='20140901'\n",
    "end='20150101'\n",
    "url = hq_baseURL.format(code, start, end)\n",
    "\n",
    "r = requests.get(url)\n",
    "page = r.content\n",
    "soup = BeautifulSoup(page)\n",
    "hq_list = []\n",
    "for el in soup.find_all(name='content'):\n",
    "    hq_cur = dict()\n",
    "    hq_cur['Close'] = float(el.attrs['c'])\n",
    "    hq_cur['Open'] = float(el.attrs['o'])\n",
    "    hq_cur['Volume'] = int(el.attrs['v'])\n",
    "    hq_cur['High'] = float(el.attrs['h'])\n",
    "    hq_cur['Low'] = float(el.attrs['l'])\n",
    "    hq_cur['Date'] = date_parser.parse(el.attrs['d'])\n",
    "    hq_list.append(hq_cur)\n",
    "df = pd.DataFrame(hq_list)\n",
    "df['Amount'] = np.NaN\n",
    "df"
   ]
  },
  {
   "cell_type": "markdown",
   "metadata": {},
   "source": [
    "### FHPS"
   ]
  },
  {
   "cell_type": "code",
   "execution_count": 415,
   "metadata": {
    "collapsed": false
   },
   "outputs": [
    {
     "data": {
      "text/html": [
       "<div>\n",
       "<table border=\"1\" class=\"dataframe\">\n",
       "  <thead>\n",
       "    <tr style=\"text-align: right;\">\n",
       "      <th></th>\n",
       "      <th>Fh</th>\n",
       "      <th>Ps</th>\n",
       "    </tr>\n",
       "    <tr>\n",
       "      <th>Date</th>\n",
       "      <th></th>\n",
       "      <th></th>\n",
       "    </tr>\n",
       "  </thead>\n",
       "  <tbody>\n",
       "    <tr>\n",
       "      <th>1994-06-13</th>\n",
       "      <td>0.081</td>\n",
       "      <td>0.1</td>\n",
       "    </tr>\n",
       "    <tr>\n",
       "      <th>1995-05-30</th>\n",
       "      <td>0.197</td>\n",
       "      <td>0.0</td>\n",
       "    </tr>\n",
       "    <tr>\n",
       "      <th>1996-06-24</th>\n",
       "      <td>0.195</td>\n",
       "      <td>0.0</td>\n",
       "    </tr>\n",
       "    <tr>\n",
       "      <th>1997-07-04</th>\n",
       "      <td>0.169</td>\n",
       "      <td>0.0</td>\n",
       "    </tr>\n",
       "    <tr>\n",
       "      <th>1998-07-20</th>\n",
       "      <td>0.146</td>\n",
       "      <td>0.0</td>\n",
       "    </tr>\n",
       "    <tr>\n",
       "      <th>1999-07-21</th>\n",
       "      <td>0.087</td>\n",
       "      <td>0.0</td>\n",
       "    </tr>\n",
       "    <tr>\n",
       "      <th>2000-07-24</th>\n",
       "      <td>0.116</td>\n",
       "      <td>0.0</td>\n",
       "    </tr>\n",
       "    <tr>\n",
       "      <th>2001-07-16</th>\n",
       "      <td>0.129</td>\n",
       "      <td>0.0</td>\n",
       "    </tr>\n",
       "    <tr>\n",
       "      <th>2002-07-08</th>\n",
       "      <td>0.102</td>\n",
       "      <td>0.0</td>\n",
       "    </tr>\n",
       "    <tr>\n",
       "      <th>2003-07-24</th>\n",
       "      <td>0.288</td>\n",
       "      <td>0.0</td>\n",
       "    </tr>\n",
       "    <tr>\n",
       "      <th>2004-06-22</th>\n",
       "      <td>0.496</td>\n",
       "      <td>0.3</td>\n",
       "    </tr>\n",
       "    <tr>\n",
       "      <th>2005-07-06</th>\n",
       "      <td>0.637</td>\n",
       "      <td>0.3</td>\n",
       "    </tr>\n",
       "    <tr>\n",
       "      <th>2006-06-19</th>\n",
       "      <td>0.747</td>\n",
       "      <td>0.0</td>\n",
       "    </tr>\n",
       "    <tr>\n",
       "      <th>2007-07-05</th>\n",
       "      <td>0.576</td>\n",
       "      <td>0.0</td>\n",
       "    </tr>\n",
       "    <tr>\n",
       "      <th>2008-07-25</th>\n",
       "      <td>0.678</td>\n",
       "      <td>0.0</td>\n",
       "    </tr>\n",
       "    <tr>\n",
       "      <th>2009-07-17</th>\n",
       "      <td>0.500</td>\n",
       "      <td>0.0</td>\n",
       "    </tr>\n",
       "    <tr>\n",
       "      <th>2010-08-06</th>\n",
       "      <td>0.325</td>\n",
       "      <td>0.0</td>\n",
       "    </tr>\n",
       "    <tr>\n",
       "      <th>2011-07-22</th>\n",
       "      <td>0.463</td>\n",
       "      <td>0.0</td>\n",
       "    </tr>\n",
       "    <tr>\n",
       "      <th>2012-07-20</th>\n",
       "      <td>0.400</td>\n",
       "      <td>0.0</td>\n",
       "    </tr>\n",
       "    <tr>\n",
       "      <th>2013-07-17</th>\n",
       "      <td>0.363</td>\n",
       "      <td>0.0</td>\n",
       "    </tr>\n",
       "    <tr>\n",
       "      <th>2014-07-16</th>\n",
       "      <td>0.390</td>\n",
       "      <td>0.0</td>\n",
       "    </tr>\n",
       "    <tr>\n",
       "      <th>2015-07-22</th>\n",
       "      <td>0.324</td>\n",
       "      <td>0.0</td>\n",
       "    </tr>\n",
       "    <tr>\n",
       "      <th>2016-07-28</th>\n",
       "      <td>0.410</td>\n",
       "      <td>0.0</td>\n",
       "    </tr>\n",
       "  </tbody>\n",
       "</table>\n",
       "</div>"
      ],
      "text/plain": [
       "               Fh   Ps\n",
       "Date                  \n",
       "1994-06-13  0.081  0.1\n",
       "1995-05-30  0.197  0.0\n",
       "1996-06-24  0.195  0.0\n",
       "1997-07-04  0.169  0.0\n",
       "1998-07-20  0.146  0.0\n",
       "1999-07-21  0.087  0.0\n",
       "2000-07-24  0.116  0.0\n",
       "2001-07-16  0.129  0.0\n",
       "2002-07-08  0.102  0.0\n",
       "2003-07-24  0.288  0.0\n",
       "2004-06-22  0.496  0.3\n",
       "2005-07-06  0.637  0.3\n",
       "2006-06-19  0.747  0.0\n",
       "2007-07-05  0.576  0.0\n",
       "2008-07-25  0.678  0.0\n",
       "2009-07-17  0.500  0.0\n",
       "2010-08-06  0.325  0.0\n",
       "2011-07-22  0.463  0.0\n",
       "2012-07-20  0.400  0.0\n",
       "2013-07-17  0.363  0.0\n",
       "2014-07-16  0.390  0.0\n",
       "2015-07-22  0.324  0.0\n",
       "2016-07-28  0.410  0.0"
      ]
     },
     "execution_count": 415,
     "metadata": {},
     "output_type": "execute_result"
    }
   ],
   "source": [
    "fhps_base_url = 'http://vip.stock.finance.sina.com.cn/corp/go.php/vISSUE_ShareBonus/stockid/{}.phtml'\n",
    "code ='000022'\n",
    "url = fhps_base_url.format(code)\n",
    "\n",
    "fhps_table_xpath = '//*[@id=\"sharebonus_1\"]'\n",
    "df = None\n",
    "\n",
    "with open_phantomJS_driver() as driver:\n",
    "    try:\n",
    "        driver.get(url)\n",
    "        d_table = WebDriverWait(driver, 30).until(EC.presence_of_element_located((By.XPATH, fhps_table_xpath)))\n",
    "        df = pd_html.read_html(d_table.get_attribute('outerHTML'))\n",
    "    except Exception as e:\n",
    "        print e\n",
    "\n",
    "\n",
    "df = df[0].iloc[:, [1, 2, 3, 5]]\n",
    "df.columns = ['Sg', 'Zg', 'Fh', 'Date']\n",
    "df[['Sg', 'Zg', 'Fh']] = df[['Sg', 'Zg', 'Fh']].astype(float).fillna(0)/10\n",
    "df['Date'] = pd.to_datetime(df['Date'], errors='coerce')\n",
    "df.loc[:, 'Ps'] = df['Sg'] + df['Zg']\n",
    "df[['Date', 'Fh', 'Ps']].set_index('Date').sort_index()"
   ]
  },
  {
   "cell_type": "markdown",
   "metadata": {},
   "source": [
    "# Test of using Sohu API"
   ]
  },
  {
   "cell_type": "code",
   "execution_count": 369,
   "metadata": {
    "collapsed": false
   },
   "outputs": [
    {
     "data": {
      "text/plain": [
       "'http://q.stock.sohu.com/hisHq?&code=cn_600202&start=20000101&end=20161201&t=d&rt=json'"
      ]
     },
     "execution_count": 369,
     "metadata": {},
     "output_type": "execute_result"
    }
   ],
   "source": [
    "sohu_base_url = 'http://q.stock.sohu.com/hisHq?&code=cn_{}&start={}&end={}&t=d&rt=json'\n",
    "code = '600202'\n",
    "start_date = '20000101'\n",
    "end_date = '20161201'\n",
    "url = sohu_base_url.format(code, start_date, end_date)\n",
    "url"
   ]
  },
  {
   "cell_type": "code",
   "execution_count": 371,
   "metadata": {
    "collapsed": false
   },
   "outputs": [
    {
     "name": "stdout",
     "output_type": "stream",
     "text": [
      "200\n"
     ]
    }
   ],
   "source": [
    "import json\n",
    "from StringIO import StringIO\n",
    "r = requests.get(url)\n",
    "print r.status_code\n",
    "page = r.content[1:-2]\n",
    "page_io = StringIO(page)\n",
    "data = json.load(page_io)\n",
    "df = pd.DataFrame(data['hq'])"
   ]
  },
  {
   "cell_type": "code",
   "execution_count": 372,
   "metadata": {
    "collapsed": true
   },
   "outputs": [],
   "source": [
    "from datetime import datetime"
   ]
  },
  {
   "cell_type": "code",
   "execution_count": 373,
   "metadata": {
    "collapsed": false
   },
   "outputs": [
    {
     "data": {
      "text/html": [
       "<div>\n",
       "<table border=\"1\" class=\"dataframe\">\n",
       "  <thead>\n",
       "    <tr style=\"text-align: right;\">\n",
       "      <th></th>\n",
       "      <th>Open</th>\n",
       "      <th>Close</th>\n",
       "      <th>Fluctuation</th>\n",
       "      <th>Fluctuation_ratio</th>\n",
       "      <th>Low</th>\n",
       "      <th>High</th>\n",
       "      <th>Volume</th>\n",
       "      <th>Amount</th>\n",
       "      <th>Change_ratio</th>\n",
       "    </tr>\n",
       "    <tr>\n",
       "      <th>Date</th>\n",
       "      <th></th>\n",
       "      <th></th>\n",
       "      <th></th>\n",
       "      <th></th>\n",
       "      <th></th>\n",
       "      <th></th>\n",
       "      <th></th>\n",
       "      <th></th>\n",
       "      <th></th>\n",
       "    </tr>\n",
       "  </thead>\n",
       "  <tbody>\n",
       "    <tr>\n",
       "      <th>2000-01-04</th>\n",
       "      <td>13.42</td>\n",
       "      <td>13.58</td>\n",
       "      <td>0.21</td>\n",
       "      <td>0.0157</td>\n",
       "      <td>13.13</td>\n",
       "      <td>13.60</td>\n",
       "      <td>2104</td>\n",
       "      <td>282.76</td>\n",
       "      <td>0.0070</td>\n",
       "    </tr>\n",
       "    <tr>\n",
       "      <th>2000-01-05</th>\n",
       "      <td>13.60</td>\n",
       "      <td>13.50</td>\n",
       "      <td>-0.08</td>\n",
       "      <td>-0.0059</td>\n",
       "      <td>13.28</td>\n",
       "      <td>13.80</td>\n",
       "      <td>2955</td>\n",
       "      <td>401.99</td>\n",
       "      <td>0.0098</td>\n",
       "    </tr>\n",
       "    <tr>\n",
       "      <th>2000-01-06</th>\n",
       "      <td>13.40</td>\n",
       "      <td>13.85</td>\n",
       "      <td>0.35</td>\n",
       "      <td>0.0259</td>\n",
       "      <td>13.30</td>\n",
       "      <td>13.90</td>\n",
       "      <td>3017</td>\n",
       "      <td>411.93</td>\n",
       "      <td>0.0100</td>\n",
       "    </tr>\n",
       "    <tr>\n",
       "      <th>2000-01-07</th>\n",
       "      <td>13.90</td>\n",
       "      <td>14.11</td>\n",
       "      <td>0.26</td>\n",
       "      <td>0.0188</td>\n",
       "      <td>13.80</td>\n",
       "      <td>14.32</td>\n",
       "      <td>9695</td>\n",
       "      <td>1361.83</td>\n",
       "      <td>0.0323</td>\n",
       "    </tr>\n",
       "    <tr>\n",
       "      <th>2000-01-10</th>\n",
       "      <td>14.13</td>\n",
       "      <td>14.26</td>\n",
       "      <td>0.15</td>\n",
       "      <td>0.0106</td>\n",
       "      <td>13.92</td>\n",
       "      <td>14.39</td>\n",
       "      <td>5827</td>\n",
       "      <td>820.76</td>\n",
       "      <td>0.0194</td>\n",
       "    </tr>\n",
       "  </tbody>\n",
       "</table>\n",
       "</div>"
      ],
      "text/plain": [
       "             Open  Close  Fluctuation  Fluctuation_ratio    Low   High  \\\n",
       "Date                                                                     \n",
       "2000-01-04  13.42  13.58         0.21             0.0157  13.13  13.60   \n",
       "2000-01-05  13.60  13.50        -0.08            -0.0059  13.28  13.80   \n",
       "2000-01-06  13.40  13.85         0.35             0.0259  13.30  13.90   \n",
       "2000-01-07  13.90  14.11         0.26             0.0188  13.80  14.32   \n",
       "2000-01-10  14.13  14.26         0.15             0.0106  13.92  14.39   \n",
       "\n",
       "            Volume   Amount  Change_ratio  \n",
       "Date                                       \n",
       "2000-01-04    2104   282.76        0.0070  \n",
       "2000-01-05    2955   401.99        0.0098  \n",
       "2000-01-06    3017   411.93        0.0100  \n",
       "2000-01-07    9695  1361.83        0.0323  \n",
       "2000-01-10    5827   820.76        0.0194  "
      ]
     },
     "execution_count": 373,
     "metadata": {},
     "output_type": "execute_result"
    }
   ],
   "source": [
    "sohu_name = ['Date', 'Open', 'Close', 'Fluctuation', 'Fluctuation_ratio', 'Low', 'High', 'Volume', 'Amount', 'Change_ratio']\n",
    "sohu_dtypes = [datetime, float, float, float, float, float, float, int, float, float]\n",
    "df.columns = sohu_name\n",
    "for dtype, col in zip(sohu_dtypes, sohu_name):\n",
    "    if col == 'Date':\n",
    "        df[col] = pd.to_datetime(df[col], errors='coerce')\n",
    "    elif col[-5:] == 'ratio':\n",
    "        df[col] = df[col].apply(lambda ratio: float(ratio[:-1])/100)\n",
    "    else:\n",
    "        df[col] = df[col].astype(dtype)\n",
    "df = df.set_index('Date').sort_index()\n",
    "df.head()"
   ]
  },
  {
   "cell_type": "markdown",
   "metadata": {},
   "source": [
    "# Test using of Tushare\n",
    "\n",
    "There are two different data source\n",
    "1. `get_h_data`\n",
    "2. `get_k_data`\n",
    "\n",
    "[reference link](http://mp.weixin.qq.com/s?__biz=MzAwOTgzMDk5Ng==&mid=2650833972&idx=1&sn=4de9f9ee81bc8bf85d1e0a4a8f79b0de&chksm=80adb30fb7da3a19817c72ff6f715ee91d6e342eb0402e860e171993bb0293bc4097e2dc4fe9&mpshare=1&scene=1&srcid=1106BPAdPiPCnj6m2Xyt5p2M#wechat_redirect)"
   ]
  },
  {
   "cell_type": "code",
   "execution_count": 374,
   "metadata": {
    "collapsed": true
   },
   "outputs": [],
   "source": [
    "import tushare as ts"
   ]
  },
  {
   "cell_type": "code",
   "execution_count": 381,
   "metadata": {
    "collapsed": false
   },
   "outputs": [],
   "source": [
    "code = '600202'\n",
    "df = ts.get_k_data(code)"
   ]
  },
  {
   "cell_type": "code",
   "execution_count": 382,
   "metadata": {
    "collapsed": false
   },
   "outputs": [
    {
     "data": {
      "text/html": [
       "<div>\n",
       "<table border=\"1\" class=\"dataframe\">\n",
       "  <thead>\n",
       "    <tr style=\"text-align: right;\">\n",
       "      <th></th>\n",
       "      <th>date</th>\n",
       "      <th>open</th>\n",
       "      <th>close</th>\n",
       "      <th>high</th>\n",
       "      <th>low</th>\n",
       "      <th>volume</th>\n",
       "      <th>code</th>\n",
       "    </tr>\n",
       "  </thead>\n",
       "  <tbody>\n",
       "    <tr>\n",
       "      <th>0</th>\n",
       "      <td>2015-02-11</td>\n",
       "      <td>7.202</td>\n",
       "      <td>7.222</td>\n",
       "      <td>7.272</td>\n",
       "      <td>7.182</td>\n",
       "      <td>35192.0</td>\n",
       "      <td>600202</td>\n",
       "    </tr>\n",
       "    <tr>\n",
       "      <th>1</th>\n",
       "      <td>2015-02-12</td>\n",
       "      <td>7.222</td>\n",
       "      <td>7.362</td>\n",
       "      <td>7.392</td>\n",
       "      <td>7.202</td>\n",
       "      <td>44545.0</td>\n",
       "      <td>600202</td>\n",
       "    </tr>\n",
       "    <tr>\n",
       "      <th>2</th>\n",
       "      <td>2015-02-13</td>\n",
       "      <td>7.372</td>\n",
       "      <td>7.452</td>\n",
       "      <td>7.512</td>\n",
       "      <td>7.372</td>\n",
       "      <td>59613.0</td>\n",
       "      <td>600202</td>\n",
       "    </tr>\n",
       "    <tr>\n",
       "      <th>3</th>\n",
       "      <td>2015-02-16</td>\n",
       "      <td>7.462</td>\n",
       "      <td>7.612</td>\n",
       "      <td>7.632</td>\n",
       "      <td>7.452</td>\n",
       "      <td>55791.0</td>\n",
       "      <td>600202</td>\n",
       "    </tr>\n",
       "    <tr>\n",
       "      <th>4</th>\n",
       "      <td>2015-02-17</td>\n",
       "      <td>7.622</td>\n",
       "      <td>7.582</td>\n",
       "      <td>7.662</td>\n",
       "      <td>7.492</td>\n",
       "      <td>55353.0</td>\n",
       "      <td>600202</td>\n",
       "    </tr>\n",
       "  </tbody>\n",
       "</table>\n",
       "</div>"
      ],
      "text/plain": [
       "         date   open  close   high    low   volume    code\n",
       "0  2015-02-11  7.202  7.222  7.272  7.182  35192.0  600202\n",
       "1  2015-02-12  7.222  7.362  7.392  7.202  44545.0  600202\n",
       "2  2015-02-13  7.372  7.452  7.512  7.372  59613.0  600202\n",
       "3  2015-02-16  7.462  7.612  7.632  7.452  55791.0  600202\n",
       "4  2015-02-17  7.622  7.582  7.662  7.492  55353.0  600202"
      ]
     },
     "execution_count": 382,
     "metadata": {},
     "output_type": "execute_result"
    }
   ],
   "source": [
    "df.head()"
   ]
  },
  {
   "cell_type": "code",
   "execution_count": 378,
   "metadata": {
    "collapsed": false
   },
   "outputs": [
    {
     "data": {
      "text/html": [
       "<div>\n",
       "<table border=\"1\" class=\"dataframe\">\n",
       "  <thead>\n",
       "    <tr style=\"text-align: right;\">\n",
       "      <th></th>\n",
       "      <th>date</th>\n",
       "      <th>open</th>\n",
       "      <th>close</th>\n",
       "      <th>high</th>\n",
       "      <th>low</th>\n",
       "      <th>volume</th>\n",
       "      <th>code</th>\n",
       "    </tr>\n",
       "  </thead>\n",
       "  <tbody>\n",
       "    <tr>\n",
       "      <th>375</th>\n",
       "      <td>2016-12-26</td>\n",
       "      <td>11.23</td>\n",
       "      <td>11.07</td>\n",
       "      <td>11.23</td>\n",
       "      <td>10.80</td>\n",
       "      <td>82667.0</td>\n",
       "      <td>600202</td>\n",
       "    </tr>\n",
       "    <tr>\n",
       "      <th>376</th>\n",
       "      <td>2016-12-27</td>\n",
       "      <td>11.01</td>\n",
       "      <td>11.10</td>\n",
       "      <td>11.20</td>\n",
       "      <td>11.00</td>\n",
       "      <td>36503.0</td>\n",
       "      <td>600202</td>\n",
       "    </tr>\n",
       "    <tr>\n",
       "      <th>377</th>\n",
       "      <td>2016-12-28</td>\n",
       "      <td>11.16</td>\n",
       "      <td>11.03</td>\n",
       "      <td>11.18</td>\n",
       "      <td>10.92</td>\n",
       "      <td>49169.0</td>\n",
       "      <td>600202</td>\n",
       "    </tr>\n",
       "    <tr>\n",
       "      <th>378</th>\n",
       "      <td>2016-12-29</td>\n",
       "      <td>11.00</td>\n",
       "      <td>11.56</td>\n",
       "      <td>11.88</td>\n",
       "      <td>10.94</td>\n",
       "      <td>122373.0</td>\n",
       "      <td>600202</td>\n",
       "    </tr>\n",
       "    <tr>\n",
       "      <th>379</th>\n",
       "      <td>2016-12-30</td>\n",
       "      <td>11.70</td>\n",
       "      <td>12.10</td>\n",
       "      <td>12.58</td>\n",
       "      <td>11.58</td>\n",
       "      <td>177582.0</td>\n",
       "      <td>600202</td>\n",
       "    </tr>\n",
       "  </tbody>\n",
       "</table>\n",
       "</div>"
      ],
      "text/plain": [
       "           date   open  close   high    low    volume    code\n",
       "375  2016-12-26  11.23  11.07  11.23  10.80   82667.0  600202\n",
       "376  2016-12-27  11.01  11.10  11.20  11.00   36503.0  600202\n",
       "377  2016-12-28  11.16  11.03  11.18  10.92   49169.0  600202\n",
       "378  2016-12-29  11.00  11.56  11.88  10.94  122373.0  600202\n",
       "379  2016-12-30  11.70  12.10  12.58  11.58  177582.0  600202"
      ]
     },
     "execution_count": 378,
     "metadata": {},
     "output_type": "execute_result"
    }
   ],
   "source": [
    "df.tail()"
   ]
  },
  {
   "cell_type": "code",
   "execution_count": 379,
   "metadata": {
    "collapsed": false
   },
   "outputs": [
    {
     "name": "stdout",
     "output_type": "stream",
     "text": [
      "[Getting data:]####"
     ]
    },
    {
     "name": "stderr",
     "output_type": "stream",
     "text": [
      "/Users/yugan/anaconda2/envs/bktrader/lib/python2.7/site-packages/tushare/stock/trading.py:446: FutureWarning: sort(columns=....) is deprecated, use sort_values(by=.....)\n",
      "  df = df.sort('date', ascending=False)\n"
     ]
    },
    {
     "data": {
      "text/html": [
       "<div>\n",
       "<table border=\"1\" class=\"dataframe\">\n",
       "  <thead>\n",
       "    <tr style=\"text-align: right;\">\n",
       "      <th></th>\n",
       "      <th>open</th>\n",
       "      <th>high</th>\n",
       "      <th>close</th>\n",
       "      <th>low</th>\n",
       "      <th>volume</th>\n",
       "      <th>amount</th>\n",
       "    </tr>\n",
       "    <tr>\n",
       "      <th>date</th>\n",
       "      <th></th>\n",
       "      <th></th>\n",
       "      <th></th>\n",
       "      <th></th>\n",
       "      <th></th>\n",
       "      <th></th>\n",
       "    </tr>\n",
       "  </thead>\n",
       "  <tbody>\n",
       "    <tr>\n",
       "      <th>2016-01-12</th>\n",
       "      <td>10.35</td>\n",
       "      <td>11.83</td>\n",
       "      <td>11.46</td>\n",
       "      <td>9.78</td>\n",
       "      <td>53176530.0</td>\n",
       "      <td>554440000.0</td>\n",
       "    </tr>\n",
       "    <tr>\n",
       "      <th>2016-01-11</th>\n",
       "      <td>11.50</td>\n",
       "      <td>11.66</td>\n",
       "      <td>10.87</td>\n",
       "      <td>10.87</td>\n",
       "      <td>20338457.0</td>\n",
       "      <td>226045768.0</td>\n",
       "    </tr>\n",
       "    <tr>\n",
       "      <th>2016-01-08</th>\n",
       "      <td>12.79</td>\n",
       "      <td>12.79</td>\n",
       "      <td>12.08</td>\n",
       "      <td>11.26</td>\n",
       "      <td>27782574.0</td>\n",
       "      <td>339482984.0</td>\n",
       "    </tr>\n",
       "    <tr>\n",
       "      <th>2016-01-07</th>\n",
       "      <td>13.52</td>\n",
       "      <td>13.58</td>\n",
       "      <td>12.48</td>\n",
       "      <td>12.48</td>\n",
       "      <td>8926180.0</td>\n",
       "      <td>115109122.0</td>\n",
       "    </tr>\n",
       "    <tr>\n",
       "      <th>2016-01-06</th>\n",
       "      <td>13.29</td>\n",
       "      <td>14.00</td>\n",
       "      <td>13.87</td>\n",
       "      <td>13.02</td>\n",
       "      <td>50380531.0</td>\n",
       "      <td>684744925.0</td>\n",
       "    </tr>\n",
       "  </tbody>\n",
       "</table>\n",
       "</div>"
      ],
      "text/plain": [
       "             open   high  close    low      volume       amount\n",
       "date                                                           \n",
       "2016-01-12  10.35  11.83  11.46   9.78  53176530.0  554440000.0\n",
       "2016-01-11  11.50  11.66  10.87  10.87  20338457.0  226045768.0\n",
       "2016-01-08  12.79  12.79  12.08  11.26  27782574.0  339482984.0\n",
       "2016-01-07  13.52  13.58  12.48  12.48   8926180.0  115109122.0\n",
       "2016-01-06  13.29  14.00  13.87  13.02  50380531.0  684744925.0"
      ]
     },
     "execution_count": 379,
     "metadata": {},
     "output_type": "execute_result"
    }
   ],
   "source": [
    "df = ts.get_h_data(code)\n",
    "df.tail()"
   ]
  },
  {
   "cell_type": "code",
   "execution_count": 380,
   "metadata": {
    "collapsed": false
   },
   "outputs": [
    {
     "data": {
      "text/html": [
       "<div>\n",
       "<table border=\"1\" class=\"dataframe\">\n",
       "  <thead>\n",
       "    <tr style=\"text-align: right;\">\n",
       "      <th></th>\n",
       "      <th>open</th>\n",
       "      <th>high</th>\n",
       "      <th>close</th>\n",
       "      <th>low</th>\n",
       "      <th>volume</th>\n",
       "      <th>amount</th>\n",
       "    </tr>\n",
       "    <tr>\n",
       "      <th>date</th>\n",
       "      <th></th>\n",
       "      <th></th>\n",
       "      <th></th>\n",
       "      <th></th>\n",
       "      <th></th>\n",
       "      <th></th>\n",
       "    </tr>\n",
       "  </thead>\n",
       "  <tbody>\n",
       "    <tr>\n",
       "      <th>2016-12-30</th>\n",
       "      <td>11.70</td>\n",
       "      <td>12.58</td>\n",
       "      <td>12.10</td>\n",
       "      <td>11.58</td>\n",
       "      <td>17758221.0</td>\n",
       "      <td>215324754.0</td>\n",
       "    </tr>\n",
       "    <tr>\n",
       "      <th>2016-12-29</th>\n",
       "      <td>11.00</td>\n",
       "      <td>11.88</td>\n",
       "      <td>11.56</td>\n",
       "      <td>10.94</td>\n",
       "      <td>12237356.0</td>\n",
       "      <td>139999314.0</td>\n",
       "    </tr>\n",
       "    <tr>\n",
       "      <th>2016-12-28</th>\n",
       "      <td>11.16</td>\n",
       "      <td>11.18</td>\n",
       "      <td>11.03</td>\n",
       "      <td>10.92</td>\n",
       "      <td>4916912.0</td>\n",
       "      <td>54207619.0</td>\n",
       "    </tr>\n",
       "    <tr>\n",
       "      <th>2016-12-27</th>\n",
       "      <td>11.01</td>\n",
       "      <td>11.20</td>\n",
       "      <td>11.10</td>\n",
       "      <td>11.00</td>\n",
       "      <td>3650327.0</td>\n",
       "      <td>40613821.0</td>\n",
       "    </tr>\n",
       "    <tr>\n",
       "      <th>2016-12-26</th>\n",
       "      <td>11.23</td>\n",
       "      <td>11.23</td>\n",
       "      <td>11.07</td>\n",
       "      <td>10.80</td>\n",
       "      <td>8266760.0</td>\n",
       "      <td>90642291.0</td>\n",
       "    </tr>\n",
       "  </tbody>\n",
       "</table>\n",
       "</div>"
      ],
      "text/plain": [
       "             open   high  close    low      volume       amount\n",
       "date                                                           \n",
       "2016-12-30  11.70  12.58  12.10  11.58  17758221.0  215324754.0\n",
       "2016-12-29  11.00  11.88  11.56  10.94  12237356.0  139999314.0\n",
       "2016-12-28  11.16  11.18  11.03  10.92   4916912.0   54207619.0\n",
       "2016-12-27  11.01  11.20  11.10  11.00   3650327.0   40613821.0\n",
       "2016-12-26  11.23  11.23  11.07  10.80   8266760.0   90642291.0"
      ]
     },
     "execution_count": 380,
     "metadata": {},
     "output_type": "execute_result"
    }
   ],
   "source": [
    "df.head()"
   ]
  },
  {
   "cell_type": "markdown",
   "metadata": {},
   "source": [
    "# Testing using Tecent"
   ]
  },
  {
   "cell_type": "code",
   "execution_count": 406,
   "metadata": {
    "collapsed": false
   },
   "outputs": [
    {
     "name": "stdout",
     "output_type": "stream",
     "text": [
      "200\n"
     ]
    },
    {
     "data": {
      "text/html": [
       "<div>\n",
       "<table border=\"1\" class=\"dataframe\">\n",
       "  <thead>\n",
       "    <tr style=\"text-align: right;\">\n",
       "      <th></th>\n",
       "      <th>Fh</th>\n",
       "      <th>Ps</th>\n",
       "    </tr>\n",
       "    <tr>\n",
       "      <th>Date</th>\n",
       "      <th></th>\n",
       "      <th></th>\n",
       "    </tr>\n",
       "  </thead>\n",
       "  <tbody>\n",
       "    <tr>\n",
       "      <th>2002-06-06</th>\n",
       "      <td>0.1500</td>\n",
       "      <td>0.0</td>\n",
       "    </tr>\n",
       "    <tr>\n",
       "      <th>2003-06-05</th>\n",
       "      <td>0.2000</td>\n",
       "      <td>0.0</td>\n",
       "    </tr>\n",
       "    <tr>\n",
       "      <th>2004-06-10</th>\n",
       "      <td>0.0000</td>\n",
       "      <td>0.2</td>\n",
       "    </tr>\n",
       "    <tr>\n",
       "      <th>2004-06-10</th>\n",
       "      <td>0.2500</td>\n",
       "      <td>0.0</td>\n",
       "    </tr>\n",
       "    <tr>\n",
       "      <th>2005-06-22</th>\n",
       "      <td>0.2000</td>\n",
       "      <td>0.0</td>\n",
       "    </tr>\n",
       "    <tr>\n",
       "      <th>2006-06-26</th>\n",
       "      <td>0.1000</td>\n",
       "      <td>0.0</td>\n",
       "    </tr>\n",
       "    <tr>\n",
       "      <th>2007-06-06</th>\n",
       "      <td>0.0000</td>\n",
       "      <td>0.5</td>\n",
       "    </tr>\n",
       "    <tr>\n",
       "      <th>2007-06-06</th>\n",
       "      <td>0.0500</td>\n",
       "      <td>0.0</td>\n",
       "    </tr>\n",
       "    <tr>\n",
       "      <th>2008-05-14</th>\n",
       "      <td>0.0000</td>\n",
       "      <td>0.5</td>\n",
       "    </tr>\n",
       "    <tr>\n",
       "      <th>2008-05-14</th>\n",
       "      <td>0.0500</td>\n",
       "      <td>0.0</td>\n",
       "    </tr>\n",
       "    <tr>\n",
       "      <th>2009-05-14</th>\n",
       "      <td>0.0200</td>\n",
       "      <td>0.0</td>\n",
       "    </tr>\n",
       "    <tr>\n",
       "      <th>2010-06-01</th>\n",
       "      <td>0.0200</td>\n",
       "      <td>0.0</td>\n",
       "    </tr>\n",
       "    <tr>\n",
       "      <th>2011-07-08</th>\n",
       "      <td>0.0250</td>\n",
       "      <td>0.0</td>\n",
       "    </tr>\n",
       "    <tr>\n",
       "      <th>2012-07-05</th>\n",
       "      <td>0.0150</td>\n",
       "      <td>0.0</td>\n",
       "    </tr>\n",
       "    <tr>\n",
       "      <th>2013-07-12</th>\n",
       "      <td>0.0550</td>\n",
       "      <td>0.0</td>\n",
       "    </tr>\n",
       "    <tr>\n",
       "      <th>2014-07-16</th>\n",
       "      <td>0.0280</td>\n",
       "      <td>0.0</td>\n",
       "    </tr>\n",
       "    <tr>\n",
       "      <th>2015-07-14</th>\n",
       "      <td>0.0155</td>\n",
       "      <td>0.0</td>\n",
       "    </tr>\n",
       "    <tr>\n",
       "      <th>2016-07-20</th>\n",
       "      <td>0.0090</td>\n",
       "      <td>0.0</td>\n",
       "    </tr>\n",
       "  </tbody>\n",
       "</table>\n",
       "</div>"
      ],
      "text/plain": [
       "                Fh   Ps\n",
       "Date                   \n",
       "2002-06-06  0.1500  0.0\n",
       "2003-06-05  0.2000  0.0\n",
       "2004-06-10  0.0000  0.2\n",
       "2004-06-10  0.2500  0.0\n",
       "2005-06-22  0.2000  0.0\n",
       "2006-06-26  0.1000  0.0\n",
       "2007-06-06  0.0000  0.5\n",
       "2007-06-06  0.0500  0.0\n",
       "2008-05-14  0.0000  0.5\n",
       "2008-05-14  0.0500  0.0\n",
       "2009-05-14  0.0200  0.0\n",
       "2010-06-01  0.0200  0.0\n",
       "2011-07-08  0.0250  0.0\n",
       "2012-07-05  0.0150  0.0\n",
       "2013-07-12  0.0550  0.0\n",
       "2014-07-16  0.0280  0.0\n",
       "2015-07-14  0.0155  0.0\n",
       "2016-07-20  0.0090  0.0"
      ]
     },
     "execution_count": 406,
     "metadata": {},
     "output_type": "execute_result"
    }
   ],
   "source": [
    "fhps_url_base = 'http://stock.finance.qq.com/corp1/distri.php?zqdm={}'\n",
    "code = '600589'\n",
    "url = fhps_url_base.format(code)\n",
    "r = requests.get(url)\n",
    "print r.status_code\n",
    "df_all = pd.read_html(r.content, na_values='--')\n",
    "df = df_all[3].iloc[4:, [2, 3, 4, 6]]\n",
    "df.columns = ['Sg', 'Zg', 'Fh', 'Date']\n",
    "df[['Sg', 'Zg', 'Fh']] = df[['Sg', 'Zg', 'Fh']].astype(float).fillna(0)/10\n",
    "df['Date'] = pd.to_datetime(df['Date'], errors='coerce')\n",
    "df.loc[:, 'Ps'] = df['Sg'] + df['Zg']\n",
    "df[['Date', 'Fh', 'Ps']].set_index('Date').sort_index()"
   ]
  },
  {
   "cell_type": "markdown",
   "metadata": {},
   "source": [
    "# <font color='red'>Checking of data integraty</font>"
   ]
  },
  {
   "cell_type": "markdown",
   "metadata": {},
   "source": [
    "## check TDX qfq and Yahoo"
   ]
  },
  {
   "cell_type": "code",
   "execution_count": 232,
   "metadata": {
    "collapsed": true
   },
   "outputs": [],
   "source": [
    "from pandas_datareader import data as web\n",
    "from dao import fromDB"
   ]
  },
  {
   "cell_type": "code",
   "execution_count": 294,
   "metadata": {
    "collapsed": false
   },
   "outputs": [
    {
     "data": {
      "text/plain": [
       "<module 'dao.fromDB' from '/Users/yugan/Dropbox/personalTrader/resources/../dao/fromDB.py'>"
      ]
     },
     "execution_count": 294,
     "metadata": {},
     "output_type": "execute_result"
    }
   ],
   "source": [
    "reload(fromDB)"
   ]
  },
  {
   "cell_type": "markdown",
   "metadata": {},
   "source": [
    "### fromDB data is not clean\n",
    "1. `Volume != 0`\n",
    "\n",
    "### Yahoo data is not clean either.\n",
    "1. `Volume != 0`\n",
    "2. `Volume != Volume.shift()`\n",
    "\n",
    "### After checking \n",
    "TDX missed the date `2001-08-16`, but Yahoo missed the date `2001-11-19` for stock `600589`"
   ]
  },
  {
   "cell_type": "code",
   "execution_count": 276,
   "metadata": {
    "collapsed": false
   },
   "outputs": [
    {
     "data": {
      "text/plain": [
       "Date\n",
       "2001-08-16   NaN\n",
       "2001-11-19   NaN\n",
       "dtype: float64"
      ]
     },
     "execution_count": 276,
     "metadata": {},
     "output_type": "execute_result"
    }
   ],
   "source": [
    "code = '600589'\n",
    "tdx_qfq = fromDB.get_stock_ori(code, 'qfq')\n",
    "tdx_qfq = tdx_qfq[tdx_qfq.Volume !=0]\n",
    "start_date = tdx_qfq.index[0]\n",
    "end_date = tdx_qfq.index[-1]\n",
    "yahoo_name = fromDB.from_code_get_yahoo_name(code)\n",
    "yahoo_df = web.DataReader(yahoo_name, 'yahoo', start=start_date, end=end_date)\n",
    "yahoo_df = yahoo_df[yahoo_df.Volume!=0]\n",
    "yahoo_df = yahoo_df[yahoo_df.Volume!=yahoo_df.Volume.shift()]\n",
    "tdx_qfq_close = tdx_qfq.Close\n",
    "yahoo_adj_close = yahoo_df['Adj Close']\n",
    "diff = ((tdx_qfq_close - yahoo_adj_close)/tdx_qfq_close).abs()\n",
    "\n",
    "diff[diff.isnull()]"
   ]
  },
  {
   "cell_type": "code",
   "execution_count": 338,
   "metadata": {
    "collapsed": false
   },
   "outputs": [
    {
     "data": {
      "text/html": [
       "<div>\n",
       "<table border=\"1\" class=\"dataframe\">\n",
       "  <thead>\n",
       "    <tr style=\"text-align: right;\">\n",
       "      <th></th>\n",
       "      <th>Open</th>\n",
       "      <th>High</th>\n",
       "      <th>Close</th>\n",
       "      <th>Low</th>\n",
       "      <th>Volume</th>\n",
       "    </tr>\n",
       "    <tr>\n",
       "      <th>Date</th>\n",
       "      <th></th>\n",
       "      <th></th>\n",
       "      <th></th>\n",
       "      <th></th>\n",
       "      <th></th>\n",
       "    </tr>\n",
       "  </thead>\n",
       "  <tbody>\n",
       "    <tr>\n",
       "      <th>2001-08-16</th>\n",
       "      <td>27.26001</td>\n",
       "      <td>27.50004</td>\n",
       "      <td>26.81</td>\n",
       "      <td>26.80001</td>\n",
       "      <td>1119700</td>\n",
       "    </tr>\n",
       "  </tbody>\n",
       "</table>\n",
       "</div>"
      ],
      "text/plain": [
       "                Open      High  Close       Low   Volume\n",
       "Date                                                    \n",
       "2001-08-16  27.26001  27.50004  26.81  26.80001  1119700"
      ]
     },
     "execution_count": 338,
     "metadata": {},
     "output_type": "execute_result"
    }
   ],
   "source": [
    "yahoo_df['2001-08-16':'2001-08-16']"
   ]
  },
  {
   "cell_type": "markdown",
   "metadata": {},
   "source": [
    "## check TDX bfq and Yahoo"
   ]
  },
  {
   "cell_type": "code",
   "execution_count": 284,
   "metadata": {
    "collapsed": false
   },
   "outputs": [
    {
     "data": {
      "text/plain": [
       "Date\n",
       "2010-10-29    0.025271\n",
       "Name: Open, dtype: float64"
      ]
     },
     "execution_count": 284,
     "metadata": {},
     "output_type": "execute_result"
    }
   ],
   "source": [
    "code = '600589'\n",
    "tdx_bfq = fromDB.get_stock_ori(code, 'bfq')\n",
    "tdx_bfq = tdx_bfq[tdx_bfq.Volume !=0]\n",
    "start_date = tdx_bfq.index[0]\n",
    "end_date = tdx_bfq.index[-1]\n",
    "yahoo_name = fromDB.from_code_get_yahoo_name(code)\n",
    "yahoo_df = web.DataReader(yahoo_name, 'yahoo', start=start_date, end=end_date)\n",
    "yahoo_df = yahoo_df[yahoo_df.Volume!=0]\n",
    "yahoo_df = yahoo_df[yahoo_df.Volume!=yahoo_df.Volume.shift()]\n",
    "tdx_bfq = tdx_bfq[['Open', 'High', 'Close', 'Low', 'Volume']]\n",
    "yahoo_df = yahoo_df[['Open', 'High', 'Close', 'Low', 'Volume']]\n",
    "diff = ((tdx_bfq - yahoo_df)/tdx_bfq).abs()\n",
    "diff.Open.sort_values(ascending=False).head(1)"
   ]
  },
  {
   "cell_type": "code",
   "execution_count": 286,
   "metadata": {
    "collapsed": false
   },
   "outputs": [
    {
     "data": {
      "text/html": [
       "<div>\n",
       "<table border=\"1\" class=\"dataframe\">\n",
       "  <thead>\n",
       "    <tr style=\"text-align: right;\">\n",
       "      <th></th>\n",
       "      <th>Open</th>\n",
       "      <th>High</th>\n",
       "      <th>Close</th>\n",
       "      <th>Low</th>\n",
       "      <th>Volume</th>\n",
       "    </tr>\n",
       "    <tr>\n",
       "      <th>Date</th>\n",
       "      <th></th>\n",
       "      <th></th>\n",
       "      <th></th>\n",
       "      <th></th>\n",
       "      <th></th>\n",
       "    </tr>\n",
       "  </thead>\n",
       "  <tbody>\n",
       "    <tr>\n",
       "      <th>2010-10-29</th>\n",
       "      <td>8.1</td>\n",
       "      <td>8.75</td>\n",
       "      <td>8.58</td>\n",
       "      <td>7.98</td>\n",
       "      <td>37386800</td>\n",
       "    </tr>\n",
       "  </tbody>\n",
       "</table>\n",
       "</div>"
      ],
      "text/plain": [
       "            Open  High  Close   Low    Volume\n",
       "Date                                         \n",
       "2010-10-29   8.1  8.75   8.58  7.98  37386800"
      ]
     },
     "execution_count": 286,
     "metadata": {},
     "output_type": "execute_result"
    }
   ],
   "source": [
    "yahoo_df['2010-10-29':'2010-10-29']"
   ]
  },
  {
   "cell_type": "code",
   "execution_count": 287,
   "metadata": {
    "collapsed": false
   },
   "outputs": [
    {
     "data": {
      "text/html": [
       "<div>\n",
       "<table border=\"1\" class=\"dataframe\">\n",
       "  <thead>\n",
       "    <tr style=\"text-align: right;\">\n",
       "      <th></th>\n",
       "      <th>Open</th>\n",
       "      <th>High</th>\n",
       "      <th>Close</th>\n",
       "      <th>Low</th>\n",
       "      <th>Volume</th>\n",
       "    </tr>\n",
       "    <tr>\n",
       "      <th>Date</th>\n",
       "      <th></th>\n",
       "      <th></th>\n",
       "      <th></th>\n",
       "      <th></th>\n",
       "      <th></th>\n",
       "    </tr>\n",
       "  </thead>\n",
       "  <tbody>\n",
       "    <tr>\n",
       "      <th>2010-10-29</th>\n",
       "      <td>8.31</td>\n",
       "      <td>8.75</td>\n",
       "      <td>8.58</td>\n",
       "      <td>8.17</td>\n",
       "      <td>37386802</td>\n",
       "    </tr>\n",
       "  </tbody>\n",
       "</table>\n",
       "</div>"
      ],
      "text/plain": [
       "            Open  High  Close   Low    Volume\n",
       "Date                                         \n",
       "2010-10-29  8.31  8.75   8.58  8.17  37386802"
      ]
     },
     "execution_count": 287,
     "metadata": {},
     "output_type": "execute_result"
    }
   ],
   "source": [
    "tdx_bfq['2010-10-29':'2010-10-29']"
   ]
  },
  {
   "cell_type": "markdown",
   "metadata": {},
   "source": [
    "## check TDX bfq and Xueqiu\n",
    "\n",
    "### xueqiu data is not clean:\n",
    "1. `Volume !=0 `"
   ]
  },
  {
   "cell_type": "code",
   "execution_count": 289,
   "metadata": {
    "collapsed": true
   },
   "outputs": [],
   "source": [
    "from dao import fromXueQiu"
   ]
  },
  {
   "cell_type": "code",
   "execution_count": 298,
   "metadata": {
    "collapsed": false
   },
   "outputs": [
    {
     "data": {
      "text/plain": [
       "<module 'dao.fromXueQiu' from '/Users/yugan/Dropbox/personalTrader/resources/../dao/fromXueQiu.py'>"
      ]
     },
     "execution_count": 298,
     "metadata": {},
     "output_type": "execute_result"
    }
   ],
   "source": [
    "reload(fromXueQiu)"
   ]
  },
  {
   "cell_type": "code",
   "execution_count": 316,
   "metadata": {
    "collapsed": false
   },
   "outputs": [
    {
     "data": {
      "text/plain": [
       "Open      0.000000\n",
       "High      0.000000\n",
       "Close     0.010091\n",
       "Low       0.011122\n",
       "Volume    1.737411\n",
       "dtype: float64"
      ]
     },
     "execution_count": 316,
     "metadata": {},
     "output_type": "execute_result"
    }
   ],
   "source": [
    "xueqiu_df = fromXueQiu.get_stock(code, start_date, end_date)\n",
    "xueqiu_df = xueqiu_df[['Open', 'High', 'Close', 'Low', 'Volume']]\n",
    "xueqiu_df = xueqiu_df[xueqiu_df.Volume!=0]\n",
    "diff = ((tdx_bfq - xueqiu_df)/tdx_bfq).abs()\n",
    "diff.max()"
   ]
  },
  {
   "cell_type": "code",
   "execution_count": 324,
   "metadata": {
    "collapsed": false
   },
   "outputs": [
    {
     "data": {
      "text/plain": [
       "5"
      ]
     },
     "execution_count": 324,
     "metadata": {},
     "output_type": "execute_result"
    }
   ],
   "source": [
    "diff.isnull().any(axis=0).sum()"
   ]
  },
  {
   "cell_type": "code",
   "execution_count": 333,
   "metadata": {
    "collapsed": false
   },
   "outputs": [
    {
     "data": {
      "text/plain": [
       "DatetimeIndex(['2001-08-16', '2014-08-06'], dtype='datetime64[ns]', name=u'Date', freq=None)"
      ]
     },
     "execution_count": 333,
     "metadata": {},
     "output_type": "execute_result"
    }
   ],
   "source": [
    "diff[diff.isnull().any(axis=1)].index"
   ]
  },
  {
   "cell_type": "code",
   "execution_count": 336,
   "metadata": {
    "collapsed": false
   },
   "outputs": [
    {
     "data": {
      "text/html": [
       "<div>\n",
       "<table border=\"1\" class=\"dataframe\">\n",
       "  <thead>\n",
       "    <tr style=\"text-align: right;\">\n",
       "      <th></th>\n",
       "      <th>Open</th>\n",
       "      <th>High</th>\n",
       "      <th>Close</th>\n",
       "      <th>Low</th>\n",
       "      <th>Volume</th>\n",
       "    </tr>\n",
       "    <tr>\n",
       "      <th>Date</th>\n",
       "      <th></th>\n",
       "      <th></th>\n",
       "      <th></th>\n",
       "      <th></th>\n",
       "      <th></th>\n",
       "    </tr>\n",
       "  </thead>\n",
       "  <tbody>\n",
       "    <tr>\n",
       "      <th>2014-08-06</th>\n",
       "      <td>5.27</td>\n",
       "      <td>5.35</td>\n",
       "      <td>5.34</td>\n",
       "      <td>5.24</td>\n",
       "      <td>11860272</td>\n",
       "    </tr>\n",
       "  </tbody>\n",
       "</table>\n",
       "</div>"
      ],
      "text/plain": [
       "            Open  High  Close   Low    Volume\n",
       "Date                                         \n",
       "2014-08-06  5.27  5.35   5.34  5.24  11860272"
      ]
     },
     "execution_count": 336,
     "metadata": {},
     "output_type": "execute_result"
    }
   ],
   "source": [
    "tdx_bfq['2014-08-06':'2014-08-06']"
   ]
  },
  {
   "cell_type": "code",
   "execution_count": 339,
   "metadata": {
    "collapsed": false
   },
   "outputs": [
    {
     "data": {
      "text/html": [
       "<div>\n",
       "<table border=\"1\" class=\"dataframe\">\n",
       "  <thead>\n",
       "    <tr style=\"text-align: right;\">\n",
       "      <th></th>\n",
       "      <th>Open</th>\n",
       "      <th>High</th>\n",
       "      <th>Close</th>\n",
       "      <th>Low</th>\n",
       "      <th>Volume</th>\n",
       "    </tr>\n",
       "    <tr>\n",
       "      <th>Date</th>\n",
       "      <th></th>\n",
       "      <th></th>\n",
       "      <th></th>\n",
       "      <th></th>\n",
       "      <th></th>\n",
       "    </tr>\n",
       "  </thead>\n",
       "  <tbody>\n",
       "    <tr>\n",
       "      <th>2001-08-16</th>\n",
       "      <td>27.26</td>\n",
       "      <td>27.5</td>\n",
       "      <td>26.81</td>\n",
       "      <td>26.8</td>\n",
       "      <td>414727</td>\n",
       "    </tr>\n",
       "  </tbody>\n",
       "</table>\n",
       "</div>"
      ],
      "text/plain": [
       "             Open  High  Close   Low  Volume\n",
       "Date                                        \n",
       "2001-08-16  27.26  27.5  26.81  26.8  414727"
      ]
     },
     "execution_count": 339,
     "metadata": {},
     "output_type": "execute_result"
    }
   ],
   "source": [
    "xueqiu_df['2001-08-16':'2001-08-16']"
   ]
  },
  {
   "cell_type": "markdown",
   "metadata": {
    "collapsed": true
   },
   "source": [
    "# Planning of the data cleaning"
   ]
  },
  {
   "cell_type": "markdown",
   "metadata": {
    "collapsed": true
   },
   "source": [
    "Currently we have the following available data API\n",
    "\n",
    "for historical daily data:\n",
    "1. tushare get_k_data\n",
    "2. sina\n",
    "3. yahoo\n",
    "4. sohu\n",
    "5. tdx\n",
    "\n",
    "for fhps data:  \n",
    "1. xueqiu (slow)\n",
    "2. tecent (best)\n",
    "3. sohu\n",
    "4. sina\n",
    "2. yahoo (not good, don't use, becuase lack of zg data)\n",
    "\n"
   ]
  },
  {
   "cell_type": "code",
   "execution_count": null,
   "metadata": {
    "collapsed": true
   },
   "outputs": [],
   "source": []
  }
 ],
 "metadata": {
  "anaconda-cloud": {},
  "kernelspec": {
   "display_name": "Python [conda env:bktrader]",
   "language": "python",
   "name": "conda-env-bktrader-py"
  },
  "language_info": {
   "codemirror_mode": {
    "name": "ipython",
    "version": 2
   },
   "file_extension": ".py",
   "mimetype": "text/x-python",
   "name": "python",
   "nbconvert_exporter": "python",
   "pygments_lexer": "ipython2",
   "version": "2.7.12"
  }
 },
 "nbformat": 4,
 "nbformat_minor": 0
}
